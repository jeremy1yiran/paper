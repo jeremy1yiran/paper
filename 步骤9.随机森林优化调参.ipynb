{
 "cells": [
  {
   "cell_type": "code",
   "execution_count": 72,
   "id": "67942025",
   "metadata": {},
   "outputs": [
    {
     "data": {
      "text/plain": [
       "(7081, 9)"
      ]
     },
     "execution_count": 72,
     "metadata": {},
     "output_type": "execute_result"
    }
   ],
   "source": [
    "import pandas as pd\n",
    "import numpy as np\n",
    "import matplotlib.pyplot as plt\n",
    "data = pd.read_csv('data/telcom_users_steam.csv')\n",
    "data.shape"
   ]
  },
  {
   "cell_type": "code",
   "execution_count": 73,
   "id": "f57a7b99",
   "metadata": {},
   "outputs": [],
   "source": [
    "import pandas as pd\n",
    "from imblearn.over_sampling import SMOTE\n",
    "from sklearn.metrics import confusion_matrix\n",
    "from sklearn.model_selection import train_test_split"
   ]
  },
  {
   "cell_type": "code",
   "execution_count": 74,
   "id": "1c29dda7",
   "metadata": {},
   "outputs": [
    {
     "data": {
      "text/html": [
       "<div>\n",
       "<style scoped>\n",
       "    .dataframe tbody tr th:only-of-type {\n",
       "        vertical-align: middle;\n",
       "    }\n",
       "\n",
       "    .dataframe tbody tr th {\n",
       "        vertical-align: top;\n",
       "    }\n",
       "\n",
       "    .dataframe thead th {\n",
       "        text-align: right;\n",
       "    }\n",
       "</style>\n",
       "<table border=\"1\" class=\"dataframe\">\n",
       "  <thead>\n",
       "    <tr style=\"text-align: right;\">\n",
       "      <th></th>\n",
       "      <th>is_increase</th>\n",
       "      <th>age</th>\n",
       "      <th>Education_Level</th>\n",
       "      <th>consume</th>\n",
       "      <th>App</th>\n",
       "      <th>Gender_F</th>\n",
       "      <th>Gender_M</th>\n",
       "      <th>Cellphone_Android</th>\n",
       "      <th>Cellphone_iPhone</th>\n",
       "      <th>Marital_Status_Divorced</th>\n",
       "      <th>Marital_Status_Married</th>\n",
       "      <th>Marital_Status_Single</th>\n",
       "      <th>Level_Blue</th>\n",
       "      <th>Level_Gold</th>\n",
       "      <th>Level_Platinum</th>\n",
       "      <th>Level_Silver</th>\n",
       "    </tr>\n",
       "  </thead>\n",
       "  <tbody>\n",
       "    <tr>\n",
       "      <th>0</th>\n",
       "      <td>0</td>\n",
       "      <td>2</td>\n",
       "      <td>1</td>\n",
       "      <td>32</td>\n",
       "      <td>5</td>\n",
       "      <td>0</td>\n",
       "      <td>1</td>\n",
       "      <td>0</td>\n",
       "      <td>1</td>\n",
       "      <td>0</td>\n",
       "      <td>1</td>\n",
       "      <td>0</td>\n",
       "      <td>1</td>\n",
       "      <td>0</td>\n",
       "      <td>0</td>\n",
       "      <td>0</td>\n",
       "    </tr>\n",
       "    <tr>\n",
       "      <th>1</th>\n",
       "      <td>0</td>\n",
       "      <td>2</td>\n",
       "      <td>2</td>\n",
       "      <td>31</td>\n",
       "      <td>6</td>\n",
       "      <td>1</td>\n",
       "      <td>0</td>\n",
       "      <td>0</td>\n",
       "      <td>1</td>\n",
       "      <td>0</td>\n",
       "      <td>0</td>\n",
       "      <td>1</td>\n",
       "      <td>1</td>\n",
       "      <td>0</td>\n",
       "      <td>0</td>\n",
       "      <td>0</td>\n",
       "    </tr>\n",
       "    <tr>\n",
       "      <th>2</th>\n",
       "      <td>0</td>\n",
       "      <td>1</td>\n",
       "      <td>2</td>\n",
       "      <td>33</td>\n",
       "      <td>4</td>\n",
       "      <td>0</td>\n",
       "      <td>1</td>\n",
       "      <td>0</td>\n",
       "      <td>1</td>\n",
       "      <td>0</td>\n",
       "      <td>1</td>\n",
       "      <td>0</td>\n",
       "      <td>1</td>\n",
       "      <td>0</td>\n",
       "      <td>0</td>\n",
       "      <td>0</td>\n",
       "    </tr>\n",
       "    <tr>\n",
       "      <th>3</th>\n",
       "      <td>0</td>\n",
       "      <td>3</td>\n",
       "      <td>1</td>\n",
       "      <td>32</td>\n",
       "      <td>5</td>\n",
       "      <td>0</td>\n",
       "      <td>1</td>\n",
       "      <td>0</td>\n",
       "      <td>1</td>\n",
       "      <td>0</td>\n",
       "      <td>1</td>\n",
       "      <td>0</td>\n",
       "      <td>1</td>\n",
       "      <td>0</td>\n",
       "      <td>0</td>\n",
       "      <td>0</td>\n",
       "    </tr>\n",
       "    <tr>\n",
       "      <th>4</th>\n",
       "      <td>0</td>\n",
       "      <td>2</td>\n",
       "      <td>2</td>\n",
       "      <td>32</td>\n",
       "      <td>3</td>\n",
       "      <td>0</td>\n",
       "      <td>1</td>\n",
       "      <td>1</td>\n",
       "      <td>0</td>\n",
       "      <td>0</td>\n",
       "      <td>1</td>\n",
       "      <td>0</td>\n",
       "      <td>1</td>\n",
       "      <td>0</td>\n",
       "      <td>0</td>\n",
       "      <td>0</td>\n",
       "    </tr>\n",
       "  </tbody>\n",
       "</table>\n",
       "</div>"
      ],
      "text/plain": [
       "   is_increase  age  Education_Level  consume  App  Gender_F  Gender_M  \\\n",
       "0            0    2                1       32    5         0         1   \n",
       "1            0    2                2       31    6         1         0   \n",
       "2            0    1                2       33    4         0         1   \n",
       "3            0    3                1       32    5         0         1   \n",
       "4            0    2                2       32    3         0         1   \n",
       "\n",
       "   Cellphone_Android  Cellphone_iPhone  Marital_Status_Divorced  \\\n",
       "0                  0                 1                        0   \n",
       "1                  0                 1                        0   \n",
       "2                  0                 1                        0   \n",
       "3                  0                 1                        0   \n",
       "4                  1                 0                        0   \n",
       "\n",
       "   Marital_Status_Married  Marital_Status_Single  Level_Blue  Level_Gold  \\\n",
       "0                       1                      0           1           0   \n",
       "1                       0                      1           1           0   \n",
       "2                       1                      0           1           0   \n",
       "3                       1                      0           1           0   \n",
       "4                       1                      0           1           0   \n",
       "\n",
       "   Level_Platinum  Level_Silver  \n",
       "0               0             0  \n",
       "1               0             0  \n",
       "2               0             0  \n",
       "3               0             0  \n",
       "4               0             0  "
      ]
     },
     "execution_count": 74,
     "metadata": {},
     "output_type": "execute_result"
    }
   ],
   "source": [
    "# 独热编码\n",
    "data = pd.get_dummies(data)\n",
    "data.head(5)"
   ]
  },
  {
   "cell_type": "code",
   "execution_count": 75,
   "id": "0ba13e2a",
   "metadata": {},
   "outputs": [],
   "source": [
    "#去除标签，并转换一下数据格式\n",
    "# 数据与标签\n",
    "import numpy as np\n",
    "# 标签\n",
    "labels = np.array(data['is_increase'])\n",
    "# 在特征中去掉标签\n",
    "features= data.drop('is_increase', axis = 1)\n",
    "# 名字单独保存一下，以备后患\n",
    "feature_list = list(features.columns)"
   ]
  },
  {
   "cell_type": "code",
   "execution_count": 76,
   "id": "bf83a9ba",
   "metadata": {},
   "outputs": [],
   "source": [
    "# 数据集切分\n",
    "from sklearn.model_selection import train_test_split\n",
    "\n",
    "train_features, test_features, train_labels, test_labels = train_test_split(features, labels, test_size = 0.25,\n",
    "                                                                           random_state = 42)"
   ]
  },
  {
   "cell_type": "code",
   "execution_count": 77,
   "id": "02c89ad8",
   "metadata": {},
   "outputs": [],
   "source": [
    "oversampler=SMOTE(random_state=0)\n"
   ]
  },
  {
   "cell_type": "code",
   "execution_count": null,
   "id": "cdadcdda",
   "metadata": {},
   "outputs": [],
   "source": []
  },
  {
   "cell_type": "code",
   "execution_count": 78,
   "id": "5ca3906f",
   "metadata": {},
   "outputs": [],
   "source": [
    "train_features,train_labels=oversampler.fit_resample(train_features,train_labels)"
   ]
  },
  {
   "cell_type": "code",
   "execution_count": 79,
   "id": "9ddde0b2",
   "metadata": {},
   "outputs": [
    {
     "name": "stdout",
     "output_type": "stream",
     "text": [
      "训练集特征: (8936, 15)\n",
      "训练集标签: (8936,)\n",
      "测试集特征: (1771, 15)\n",
      "测试集标签: (1771,)\n"
     ]
    }
   ],
   "source": [
    "print('训练集特征:', train_features.shape)\n",
    "print('训练集标签:', train_labels.shape)\n",
    "print('测试集特征:', test_features.shape)\n",
    "print('测试集标签:', test_labels.shape)"
   ]
  },
  {
   "cell_type": "code",
   "execution_count": 80,
   "id": "72de4b1d",
   "metadata": {},
   "outputs": [
    {
     "data": {
      "text/plain": [
       "271"
      ]
     },
     "execution_count": 80,
     "metadata": {},
     "output_type": "execute_result"
    }
   ],
   "source": [
    "test_labels.sum()\n",
    "\n"
   ]
  },
  {
   "cell_type": "code",
   "execution_count": 81,
   "id": "f7188012",
   "metadata": {},
   "outputs": [
    {
     "data": {
      "text/plain": [
       "RandomForestClassifier(criterion='entropy', n_estimators=1000, random_state=42)"
      ]
     },
     "execution_count": 81,
     "metadata": {},
     "output_type": "execute_result"
    }
   ],
   "source": [
    "from sklearn.ensemble import RandomForestClassifier\n",
    "classifier = RandomForestClassifier(n_estimators = 1000, criterion = 'entropy', random_state =42)\n",
    "classifier.fit(train_features, train_labels)"
   ]
  },
  {
   "cell_type": "code",
   "execution_count": 82,
   "id": "10725ecb",
   "metadata": {},
   "outputs": [],
   "source": [
    "y_pred = classifier.predict(test_features)"
   ]
  },
  {
   "cell_type": "code",
   "execution_count": 83,
   "id": "ad2f329d",
   "metadata": {},
   "outputs": [],
   "source": [
    "# Making the Confusion Matrix\n",
    "from sklearn.metrics import confusion_matrix\n",
    "cm1 = confusion_matrix(test_labels, y_pred)"
   ]
  },
  {
   "cell_type": "code",
   "execution_count": 84,
   "id": "48d9183d",
   "metadata": {},
   "outputs": [
    {
     "data": {
      "text/plain": [
       "array([[1050,  450],\n",
       "       [ 171,  100]], dtype=int64)"
      ]
     },
     "execution_count": 84,
     "metadata": {},
     "output_type": "execute_result"
    }
   ],
   "source": [
    "cm1"
   ]
  },
  {
   "cell_type": "code",
   "execution_count": null,
   "id": "e985cf4d",
   "metadata": {},
   "outputs": [],
   "source": []
  },
  {
   "cell_type": "code",
   "execution_count": null,
   "id": "0f27f8a6",
   "metadata": {},
   "outputs": [],
   "source": [
    "\n"
   ]
  },
  {
   "cell_type": "code",
   "execution_count": null,
   "id": "3c0aff15",
   "metadata": {},
   "outputs": [],
   "source": [
    "\n"
   ]
  },
  {
   "cell_type": "code",
   "execution_count": null,
   "id": "7815f878",
   "metadata": {},
   "outputs": [],
   "source": []
  },
  {
   "cell_type": "code",
   "execution_count": 85,
   "id": "eddc0765",
   "metadata": {},
   "outputs": [],
   "source": [
    "def plot_confusion_matrix(cm, classes,\n",
    "                          title='Confusion matrix',\n",
    "                          cmap=plt.cm.Blues):\n",
    "    \"\"\"\n",
    "    绘制混淆矩阵\n",
    "    \"\"\"\n",
    "    plt.imshow(cm, interpolation='nearest', cmap=cmap)\n",
    "    plt.title(title)\n",
    "    plt.colorbar()\n",
    "    tick_marks = np.arange(len(classes))\n",
    "    plt.xticks(tick_marks, classes, rotation=0)\n",
    "    plt.yticks(tick_marks, classes)\n",
    "\n",
    "    thresh = cm.max() / 2.\n",
    "    for i, j in itertools.product(range(cm.shape[0]), range(cm.shape[1])):\n",
    "        plt.text(j, i, cm[i, j],\n",
    "                 horizontalalignment=\"center\",\n",
    "                 color=\"white\" if cm[i, j] > thresh else \"black\")\n",
    "\n",
    "    plt.tight_layout()\n",
    "    plt.ylabel('True label')\n",
    "    plt.xlabel('Predicted label')"
   ]
  },
  {
   "cell_type": "code",
   "execution_count": 86,
   "id": "be4100f0",
   "metadata": {},
   "outputs": [
    {
     "data": {
      "image/png": "[encoded data removed]",
      "text/plain": [
       "<Figure size 432x288 with 2 Axes>"
      ]
     },
     "metadata": {
      "needs_background": "light"
     },
     "output_type": "display_data"
    }
   ],
   "source": [
    "# 绘制\n",
    "import itertools\n",
    "class_names = [0,1]\n",
    "plt.figure()\n",
    "plot_confusion_matrix(cm , classes=class_names\n",
    "                      , title='Confusion matrix')\n",
    "plt.show()"
   ]
  },
  {
   "cell_type": "code",
   "execution_count": 87,
   "id": "cc27547d",
   "metadata": {},
   "outputs": [
    {
     "name": "stdout",
     "output_type": "stream",
     "text": [
      "100%|█████████████████████████████████████████████| 100/100 [00:12<00:00,  7.76trial/s, best loss: -0.6747600225861096]\n",
      "{'max_depth': 15, 'max_leaf_nodes': 49, 'n_estimators': 20}\n"
     ]
    }
   ],
   "source": [
    "\"\"\"\n",
    "随机森林分类Iris使用贝叶斯优化调参\n",
    "\"\"\"\n",
    "import numpy as np\n",
    "from hyperopt import hp, tpe, Trials, STATUS_OK, Trials, anneal\n",
    "from functools import partial\n",
    "from hyperopt.fmin import fmin\n",
    "from sklearn.metrics import f1_score\n",
    "from sklearn.ensemble import RandomForestClassifier\n",
    "\n",
    "def model_metrics(model, x, y):\n",
    "    \"\"\" 评估指标 \"\"\"\n",
    "    yhat = model.predict(x)\n",
    "    return  f1_score(y, yhat,average='micro')\n",
    "\n",
    "def bayes_fmin(train_x, test_x, train_y, test_y, eval_iters=50):\n",
    "    \"\"\"\n",
    "    bayes优化超参数\n",
    "    eval_iters：迭代次数\n",
    "    \"\"\"\n",
    "    def factory(params):\n",
    "        \"\"\"\n",
    "        定义优化的目标函数\n",
    "        \"\"\"\n",
    "        fit_params = {\n",
    "            'max_depth':int(params['max_depth']),\n",
    "            'n_estimators':int(params['n_estimators']),\n",
    "            'max_leaf_nodes': int(params['max_leaf_nodes'])\n",
    "            }\n",
    "        # 选择模型\n",
    "        model = RandomForestClassifier(**fit_params)\n",
    "        \n",
    "        model.fit(train_x, train_y)\n",
    "        # 最小化测试集（- f1score）为目标\n",
    "        train_metric = model_metrics(model, train_x, train_y)\n",
    "        test_metric = model_metrics(model, test_x, test_y)\n",
    "        loss = - test_metric\n",
    "        return {\"loss\": loss, \"status\":STATUS_OK}\n",
    "\n",
    "    # 参数空间\n",
    "    space = {\n",
    "        'max_depth': hp.quniform('max_depth', 1, 120, 1),\n",
    "        'n_estimators': hp.quniform('n_estimators', 2,150, 1), \n",
    "        'max_leaf_nodes': hp.quniform('max_leaf_nodes', 2, 100, 1)\n",
    "            }\n",
    "    # bayes优化搜索参数\n",
    "    best_params = fmin(factory, space, algo=partial(anneal.suggest,), max_evals=eval_iters, trials=Trials(),return_argmin=True)\n",
    "    # 参数转为整型\n",
    "    best_params[\"max_depth\"] = int(best_params[\"max_depth\"])\n",
    "    best_params[\"max_leaf_nodes\"] = int(best_params[\"max_leaf_nodes\"])\n",
    "    best_params[\"n_estimators\"] = int(best_params[\"n_estimators\"])\n",
    "    return best_params\n",
    "\n",
    "#  搜索最优参数  train_features, test_features, train_labels, test_labels\n",
    "#best_params = bayes_fmin(train_x, test_x, train_y, test_y, 100)\n",
    "best_params = bayes_fmin(train_features, test_features, train_labels, test_labels, 100)\n",
    "print(best_params)"
   ]
  },
  {
   "cell_type": "code",
   "execution_count": 88,
   "id": "7aa3e502",
   "metadata": {},
   "outputs": [],
   "source": [
    "from sklearn.ensemble import RandomForestClassifier\n",
    "classifier = RandomForestClassifier(n_estimators = 136, criterion = 'entropy',max_depth =3,max_leaf_nodes=2,random_state =42)\n",
    "classifier.fit(train_features, train_labels)\n",
    "y_pred = classifier.predict(test_features)\n",
    "# Making the Confusion Matrix\n",
    "from sklearn.metrics import confusion_matrix\n",
    "cm = confusion_matrix(test_labels, y_pred)"
   ]
  },
  {
   "cell_type": "code",
   "execution_count": 89,
   "id": "177b365b",
   "metadata": {},
   "outputs": [
    {
     "data": {
      "text/plain": [
       "array([[988, 512],\n",
       "       [142, 129]], dtype=int64)"
      ]
     },
     "execution_count": 89,
     "metadata": {},
     "output_type": "execute_result"
    }
   ],
   "source": [
    "cm\n",
    "\n"
   ]
  },
  {
   "cell_type": "code",
   "execution_count": 90,
   "id": "3dfc0db3",
   "metadata": {},
   "outputs": [
    {
     "ename": "NameError",
     "evalue": "name 'array' is not defined",
     "output_type": "error",
     "traceback": [
      "\u001b[1;31m---------------------------------------------------------------------------\u001b[0m",
      "\u001b[1;31mNameError\u001b[0m                                 Traceback (most recent call last)",
      "\u001b[1;32m<ipython-input-90-55c4e007967e>\u001b[0m in \u001b[0;36m<module>\u001b[1;34m\u001b[0m\n\u001b[1;32m----> 1\u001b[1;33m array([[984, 516],\n\u001b[0m\u001b[0;32m      2\u001b[0m        [142, 129]], dtype=int64)    \n\u001b[0;32m      3\u001b[0m \u001b[1;33m\u001b[0m\u001b[0m\n\u001b[0;32m      4\u001b[0m array([[1050,  450],\n\u001b[0;32m      5\u001b[0m        [ 171,  100]], dtype=int64)\n",
      "\u001b[1;31mNameError\u001b[0m: name 'array' is not defined"
     ]
    }
   ],
   "source": [
    "array([[984, 516],\n",
    "       [142, 129]], dtype=int64)    \n",
    "\n",
    "array([[1050,  450],\n",
    "       [ 171,  100]], dtype=int64)"
   ]
  },
  {
   "cell_type": "code",
   "execution_count": 91,
   "id": "a7458840",
   "metadata": {},
   "outputs": [
    {
     "ename": "NameError",
     "evalue": "name 'array' is not defined",
     "output_type": "error",
     "traceback": [
      "\u001b[1;31m---------------------------------------------------------------------------\u001b[0m",
      "\u001b[1;31mNameError\u001b[0m                                 Traceback (most recent call last)",
      "\u001b[1;32m<ipython-input-91-da6dd8297126>\u001b[0m in \u001b[0;36m<module>\u001b[1;34m\u001b[0m\n\u001b[1;32m----> 1\u001b[1;33m array([[988, 512],\n\u001b[0m\u001b[0;32m      2\u001b[0m        [142, 129]], dtype=int64)\n",
      "\u001b[1;31mNameError\u001b[0m: name 'array' is not defined"
     ]
    }
   ],
   "source": [
    "\n",
    "array([[988, 512],\n",
    "       [142, 129]], dtype=int64)"
   ]
  },
  {
   "cell_type": "code",
   "execution_count": 92,
   "id": "0dfe66d8",
   "metadata": {},
   "outputs": [
    {
     "name": "stdout",
     "output_type": "stream",
     "text": [
      "0.6307171089779785\n",
      "0.8743362831858407\n",
      "0.7328096872532751\n",
      "0.47601476014760147\n"
     ]
    }
   ],
   "source": [
    "#精度\n",
    "accurracy = (cm[0, 0] + cm[1, 1]) / (cm[0, 0] + cm[0, 1] + cm[1, 0] + cm[1, 1])\n",
    "print(accurracy)\n",
    "# 召回率\n",
    "recall = cm[0, 0] / (cm[1, 0] + cm[0, 0])\n",
    "print(recall)\n",
    "# F1得分\n",
    "F1_score = 2*accurracy*recall/(accurracy+recall)\n",
    "print(F1_score)\n",
    "\n",
    "specificity =  cm[1, 1] / (cm[1, 1] + cm[1, 0])\n",
    "print(specificity)"
   ]
  },
  {
   "cell_type": "code",
   "execution_count": 64,
   "id": "81691955",
   "metadata": {},
   "outputs": [
    {
     "ename": "NameError",
     "evalue": "name 'array' is not defined",
     "output_type": "error",
     "traceback": [
      "\u001b[1;31m---------------------------------------------------------------------------\u001b[0m",
      "\u001b[1;31mNameError\u001b[0m                                 Traceback (most recent call last)",
      "\u001b[1;32m<ipython-input-64-79b2cc44c5c3>\u001b[0m in \u001b[0;36m<module>\u001b[1;34m\u001b[0m\n\u001b[1;32m----> 1\u001b[1;33m array([[1050,  450],\n\u001b[0m\u001b[0;32m      2\u001b[0m        [ 171,  100]], dtype=int64)\n",
      "\u001b[1;31mNameError\u001b[0m: name 'array' is not defined"
     ]
    }
   ],
   "source": [
    "array([[1050,  450],\n",
    "       [ 171,  100]], dtype=int64)"
   ]
  },
  {
   "cell_type": "code",
   "execution_count": 93,
   "id": "5f639319",
   "metadata": {},
   "outputs": [
    {
     "name": "stdout",
     "output_type": "stream",
     "text": [
      "0.6493506493506493\n",
      "0.85995085995086\n",
      "0.7399577167019028\n",
      "0.36900369003690037\n"
     ]
    }
   ],
   "source": [
    "#精度\n",
    "accurracy = (cm1[0, 0] + cm1[1, 1]) / (cm1[0, 0] + cm1[0, 1] + cm1[1, 0] + cm1[1, 1])\n",
    "print(accurracy)\n",
    "# 召回率\n",
    "recall = cm1[0, 0] / (cm1[1, 0] + cm1[0, 0])\n",
    "print(recall)\n",
    "# F1得分\n",
    "F1_score = 2*accurracy*recall/(accurracy+recall)\n",
    "print(F1_score)\n",
    "specificity =  cm1[1, 1] / (cm1[1, 1] + cm1[1, 0])\n",
    "print(specificity)"
   ]
  },
  {
   "cell_type": "code",
   "execution_count": null,
   "id": "43d5d658",
   "metadata": {},
   "outputs": [],
   "source": []
  },
  {
   "cell_type": "code",
   "execution_count": null,
   "id": "fefdc2d1",
   "metadata": {},
   "outputs": [],
   "source": []
  },
  {
   "cell_type": "code",
   "execution_count": null,
   "id": "93d20d78",
   "metadata": {},
   "outputs": [],
   "source": []
  },
  {
   "cell_type": "code",
   "execution_count": null,
   "id": "66eaa27c",
   "metadata": {},
   "outputs": [],
   "source": []
  },
  {
   "cell_type": "code",
   "execution_count": null,
   "id": "fa18e673",
   "metadata": {},
   "outputs": [],
   "source": []
  },
  {
   "cell_type": "code",
   "execution_count": null,
   "id": "982e130a",
   "metadata": {},
   "outputs": [],
   "source": []
  },
  {
   "cell_type": "code",
   "execution_count": null,
   "id": "856c5328",
   "metadata": {},
   "outputs": [],
   "source": []
  },
  {
   "cell_type": "code",
   "execution_count": null,
   "id": "9549d1f4",
   "metadata": {},
   "outputs": [],
   "source": []
  }
 ],
 "metadata": {
  "kernelspec": {
   "display_name": "Python 3",
   "language": "python",
   "name": "python3"
  },
  "language_info": {
   "codemirror_mode": {
    "name": "ipython",
    "version": 3
   },
   "file_extension": ".py",
   "mimetype": "text/x-python",
   "name": "python",
   "nbconvert_exporter": "python",
   "pygments_lexer": "ipython3",
   "version": "3.9.1"
  }
 },
 "nbformat": 4,
 "nbformat_minor": 5
}
