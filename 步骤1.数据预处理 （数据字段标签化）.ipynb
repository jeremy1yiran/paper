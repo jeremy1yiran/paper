{
 "cells": [
  {
   "cell_type": "code",
   "execution_count": 2,
   "id": "35c343d6",
   "metadata": {},
   "outputs": [
    {
     "data": {
      "text/html": [
       "<div>\n",
       "<style scoped>\n",
       "    .dataframe tbody tr th:only-of-type {\n",
       "        vertical-align: middle;\n",
       "    }\n",
       "\n",
       "    .dataframe tbody tr th {\n",
       "        vertical-align: top;\n",
       "    }\n",
       "\n",
       "    .dataframe thead th {\n",
       "        text-align: right;\n",
       "    }\n",
       "</style>\n",
       "<table border=\"1\" class=\"dataframe\">\n",
       "  <thead>\n",
       "    <tr style=\"text-align: right;\">\n",
       "      <th></th>\n",
       "      <th>is_increase</th>\n",
       "      <th>age</th>\n",
       "      <th>Gender</th>\n",
       "      <th>Cellphone</th>\n",
       "      <th>Education_Level</th>\n",
       "      <th>Marital_Status</th>\n",
       "      <th>consume</th>\n",
       "      <th>Level</th>\n",
       "      <th>Total_Relationship_Count</th>\n",
       "    </tr>\n",
       "  </thead>\n",
       "  <tbody>\n",
       "    <tr>\n",
       "      <th>0</th>\n",
       "      <td>0</td>\n",
       "      <td>45</td>\n",
       "      <td>M</td>\n",
       "      <td>3</td>\n",
       "      <td>High School</td>\n",
       "      <td>Married</td>\n",
       "      <td>$60K - $80K</td>\n",
       "      <td>Blue</td>\n",
       "      <td>5</td>\n",
       "    </tr>\n",
       "    <tr>\n",
       "      <th>1</th>\n",
       "      <td>0</td>\n",
       "      <td>49</td>\n",
       "      <td>F</td>\n",
       "      <td>5</td>\n",
       "      <td>Graduate</td>\n",
       "      <td>Single</td>\n",
       "      <td>Less than $40K</td>\n",
       "      <td>Blue</td>\n",
       "      <td>6</td>\n",
       "    </tr>\n",
       "    <tr>\n",
       "      <th>2</th>\n",
       "      <td>0</td>\n",
       "      <td>51</td>\n",
       "      <td>M</td>\n",
       "      <td>3</td>\n",
       "      <td>Graduate</td>\n",
       "      <td>Married</td>\n",
       "      <td>$80K - $120K</td>\n",
       "      <td>Blue</td>\n",
       "      <td>4</td>\n",
       "    </tr>\n",
       "    <tr>\n",
       "      <th>3</th>\n",
       "      <td>0</td>\n",
       "      <td>40</td>\n",
       "      <td>F</td>\n",
       "      <td>4</td>\n",
       "      <td>High School</td>\n",
       "      <td>Unknown</td>\n",
       "      <td>Less than $40K</td>\n",
       "      <td>Blue</td>\n",
       "      <td>3</td>\n",
       "    </tr>\n",
       "    <tr>\n",
       "      <th>4</th>\n",
       "      <td>0</td>\n",
       "      <td>40</td>\n",
       "      <td>M</td>\n",
       "      <td>3</td>\n",
       "      <td>Uneducated</td>\n",
       "      <td>Married</td>\n",
       "      <td>$60K - $80K</td>\n",
       "      <td>Blue</td>\n",
       "      <td>5</td>\n",
       "    </tr>\n",
       "  </tbody>\n",
       "</table>\n",
       "</div>"
      ],
      "text/plain": [
       "   is_increase  age Gender  Cellphone Education_Level Marital_Status  \\\n",
       "0            0   45      M          3     High School        Married   \n",
       "1            0   49      F          5        Graduate         Single   \n",
       "2            0   51      M          3        Graduate        Married   \n",
       "3            0   40      F          4     High School        Unknown   \n",
       "4            0   40      M          3      Uneducated        Married   \n",
       "\n",
       "          consume Level  Total_Relationship_Count  \n",
       "0     $60K - $80K  Blue                         5  \n",
       "1  Less than $40K  Blue                         6  \n",
       "2    $80K - $120K  Blue                         4  \n",
       "3  Less than $40K  Blue                         3  \n",
       "4     $60K - $80K  Blue                         5  "
      ]
     },
     "execution_count": 2,
     "metadata": {},
     "output_type": "execute_result"
    }
   ],
   "source": [
    "import pandas as pd\n",
    "\n",
    "data = pd.read_csv('data/TelcomUsers.csv')\n",
    "data.head(5)"
   ]
  },
  {
   "cell_type": "code",
   "execution_count": 6,
   "id": "e79dc050",
   "metadata": {},
   "outputs": [
    {
     "data": {
      "text/plain": [
       "(10127, 9)"
      ]
     },
     "execution_count": 6,
     "metadata": {},
     "output_type": "execute_result"
    }
   ],
   "source": [
    "data.shape"
   ]
  },
  {
   "cell_type": "code",
   "execution_count": 4,
   "id": "9c0f4a62",
   "metadata": {},
   "outputs": [
    {
     "data": {
      "text/plain": [
       "Blue        9436\n",
       "Silver       555\n",
       "Gold         116\n",
       "Platinum      20\n",
       "Name: Level, dtype: int64"
      ]
     },
     "execution_count": 4,
     "metadata": {},
     "output_type": "execute_result"
    }
   ],
   "source": [
    "data['Level'].value_counts()"
   ]
  },
  {
   "cell_type": "code",
   "execution_count": 5,
   "id": "4ac843f4",
   "metadata": {},
   "outputs": [
    {
     "data": {
      "text/plain": [
       "Married     4687\n",
       "Single      3943\n",
       "Unknown      749\n",
       "Divorced     748\n",
       "Name: Marital_Status, dtype: int64"
      ]
     },
     "execution_count": 5,
     "metadata": {},
     "output_type": "execute_result"
    }
   ],
   "source": [
    "data['Marital_Status'].value_counts()"
   ]
  },
  {
   "cell_type": "code",
   "execution_count": 8,
   "id": "a437b025",
   "metadata": {},
   "outputs": [
    {
     "data": {
      "text/html": [
       "<div>\n",
       "<style scoped>\n",
       "    .dataframe tbody tr th:only-of-type {\n",
       "        vertical-align: middle;\n",
       "    }\n",
       "\n",
       "    .dataframe tbody tr th {\n",
       "        vertical-align: top;\n",
       "    }\n",
       "\n",
       "    .dataframe thead th {\n",
       "        text-align: right;\n",
       "    }\n",
       "</style>\n",
       "<table border=\"1\" class=\"dataframe\">\n",
       "  <thead>\n",
       "    <tr style=\"text-align: right;\">\n",
       "      <th></th>\n",
       "      <th>is_increase</th>\n",
       "      <th>age</th>\n",
       "      <th>Gender</th>\n",
       "      <th>Cellphone</th>\n",
       "      <th>Education_Level</th>\n",
       "      <th>Marital_Status</th>\n",
       "      <th>consume</th>\n",
       "      <th>Level</th>\n",
       "      <th>Total_Relationship_Count</th>\n",
       "    </tr>\n",
       "  </thead>\n",
       "  <tbody>\n",
       "  </tbody>\n",
       "</table>\n",
       "</div>"
      ],
      "text/plain": [
       "Empty DataFrame\n",
       "Columns: [is_increase, age, Gender, Cellphone, Education_Level, Marital_Status, consume, Level, Total_Relationship_Count]\n",
       "Index: []"
      ]
     },
     "execution_count": 8,
     "metadata": {},
     "output_type": "execute_result"
    }
   ],
   "source": [
    "data[(data.age>21) & (data.age<26)]\n",
    "\n",
    "data.loc[31 <= data['age'] < 41] = 3;\n",
    "data.loc[41 <= data['age'] < 50] = 2;\n",
    "data.loc[50 <= data['age'] < 60] = 1;\n"
   ]
  },
  {
   "cell_type": "code",
   "execution_count": 20,
   "id": "ca777a40",
   "metadata": {},
   "outputs": [],
   "source": [
    "data.loc[data['age'] >= 60, 'age'] = 6;\n",
    "data.loc[(26<= data['age']) & (data['age'] < 31), 'age'] = 4;\n",
    "data.loc[(31<= data['age']) & (data['age'] < 41), 'age'] = 3;\n",
    "data.loc[(41<= data['age']) & (data['age'] < 50), 'age'] = 2;\n",
    "data.loc[(50<= data['age']) & (data['age'] < 60), 'age'] = 1;"
   ]
  },
  {
   "cell_type": "code",
   "execution_count": 27,
   "id": "9c7fd203",
   "metadata": {},
   "outputs": [
    {
     "data": {
      "text/plain": [
       "3    2732\n",
       "2    2655\n",
       "1    1838\n",
       "4    1574\n",
       "0     904\n",
       "5     424\n",
       "Name: Cellphone, dtype: int64"
      ]
     },
     "execution_count": 27,
     "metadata": {},
     "output_type": "execute_result"
    }
   ],
   "source": [
    "data['Cellphone'].value_counts()"
   ]
  },
  {
   "cell_type": "code",
   "execution_count": 36,
   "id": "97e49552",
   "metadata": {},
   "outputs": [
    {
     "ename": "ValueError",
     "evalue": "The truth value of a Series is ambiguous. Use a.empty, a.bool(), a.item(), a.any() or a.all().",
     "output_type": "error",
     "traceback": [
      "\u001b[1;31m---------------------------------------------------------------------------\u001b[0m",
      "\u001b[1;31mValueError\u001b[0m                                Traceback (most recent call last)",
      "\u001b[1;32m<ipython-input-36-9e7df5053536>\u001b[0m in \u001b[0;36m<module>\u001b[1;34m\u001b[0m\n\u001b[1;32m----> 1\u001b[1;33m \u001b[0mdata\u001b[0m\u001b[1;33m.\u001b[0m\u001b[0mloc\u001b[0m\u001b[1;33m[\u001b[0m\u001b[1;33m(\u001b[0m\u001b[0mdata\u001b[0m\u001b[1;33m[\u001b[0m\u001b[1;34m'Cellphone'\u001b[0m\u001b[1;33m]\u001b[0m\u001b[1;33m==\u001b[0m\u001b[1;34m'0'\u001b[0m \u001b[1;32mor\u001b[0m \u001b[0mdata\u001b[0m\u001b[1;33m[\u001b[0m\u001b[1;34m'Cellphone'\u001b[0m\u001b[1;33m]\u001b[0m\u001b[1;33m==\u001b[0m\u001b[1;34m'1'\u001b[0m  \u001b[1;32mor\u001b[0m \u001b[0mdata\u001b[0m\u001b[1;33m[\u001b[0m\u001b[1;34m'Cellphone'\u001b[0m\u001b[1;33m]\u001b[0m\u001b[1;33m==\u001b[0m\u001b[1;34m'2'\u001b[0m \u001b[1;33m)\u001b[0m\u001b[1;33m,\u001b[0m \u001b[1;34m'Cellphone'\u001b[0m\u001b[1;33m]\u001b[0m \u001b[1;33m=\u001b[0m \u001b[1;36m1\u001b[0m\u001b[1;33m;\u001b[0m\u001b[1;33m\u001b[0m\u001b[1;33m\u001b[0m\u001b[0m\n\u001b[0m",
      "\u001b[1;32mc:\\users\\jeremy\\appdata\\local\\programs\\python\\python39\\lib\\site-packages\\pandas\\core\\generic.py\u001b[0m in \u001b[0;36m__nonzero__\u001b[1;34m(self)\u001b[0m\n\u001b[0;32m   1440\u001b[0m     \u001b[1;33m@\u001b[0m\u001b[0mfinal\u001b[0m\u001b[1;33m\u001b[0m\u001b[1;33m\u001b[0m\u001b[0m\n\u001b[0;32m   1441\u001b[0m     \u001b[1;32mdef\u001b[0m \u001b[0m__nonzero__\u001b[0m\u001b[1;33m(\u001b[0m\u001b[0mself\u001b[0m\u001b[1;33m)\u001b[0m\u001b[1;33m:\u001b[0m\u001b[1;33m\u001b[0m\u001b[1;33m\u001b[0m\u001b[0m\n\u001b[1;32m-> 1442\u001b[1;33m         raise ValueError(\n\u001b[0m\u001b[0;32m   1443\u001b[0m             \u001b[1;34mf\"The truth value of a {type(self).__name__} is ambiguous. \"\u001b[0m\u001b[1;33m\u001b[0m\u001b[1;33m\u001b[0m\u001b[0m\n\u001b[0;32m   1444\u001b[0m             \u001b[1;34m\"Use a.empty, a.bool(), a.item(), a.any() or a.all().\"\u001b[0m\u001b[1;33m\u001b[0m\u001b[1;33m\u001b[0m\u001b[0m\n",
      "\u001b[1;31mValueError\u001b[0m: The truth value of a Series is ambiguous. Use a.empty, a.bool(), a.item(), a.any() or a.all()."
     ]
    }
   ],
   "source": [
    "data.loc[(data['Cellphone']=='0'), 'Cellphone'] = 1;"
   ]
  },
  {
   "cell_type": "code",
   "execution_count": 49,
   "id": "acbcc136",
   "metadata": {},
   "outputs": [],
   "source": [
    "data.loc[(data['consume'] == 'Less than $40K'),'consume'] = 31;\n",
    "data.loc[(data['consume'] == '23'),'consume'] = 32;\n",
    "data.loc[(data['consume'] == '60𝐾−80K'),'consume'] = 32;\n",
    "data.loc[(data['consume'] == '80𝐾− 120K'),'consume'] = 33;"
   ]
  },
  {
   "cell_type": "code",
   "execution_count": null,
   "id": "1086e8c1",
   "metadata": {},
   "outputs": [],
   "source": []
  },
  {
   "cell_type": "code",
   "execution_count": 52,
   "id": "2f6a8c1e",
   "metadata": {},
   "outputs": [],
   "source": []
  },
  {
   "cell_type": "code",
   "execution_count": 53,
   "id": "b35becd0",
   "metadata": {},
   "outputs": [
    {
     "data": {
      "text/plain": [
       "1                3500\n",
       "Graduate         3128\n",
       "Unknown          1519\n",
       "College          1013\n",
       "Post-Graduate     516\n",
       "Doctorate         451\n",
       "Name: Education_Level, dtype: int64"
      ]
     },
     "execution_count": 53,
     "metadata": {},
     "output_type": "execute_result"
    }
   ],
   "source": [
    "data['Education_Level'].value_counts()"
   ]
  },
  {
   "cell_type": "code",
   "execution_count": 55,
   "id": "60c82565",
   "metadata": {},
   "outputs": [],
   "source": [
    "data.loc[(data['Education_Level'] == 'Graduate'),'Education_Level'] = 2;\n",
    "data.loc[(data['Education_Level'] == 'College'),'Education_Level'] = 2;"
   ]
  },
  {
   "cell_type": "code",
   "execution_count": 56,
   "id": "2e15f294",
   "metadata": {},
   "outputs": [],
   "source": [
    "data.loc[(data['Education_Level'] == 'Post-Graduate'),'Education_Level'] = 3;\n",
    "data.loc[(data['Education_Level'] == 'Doctorate'),'Education_Level'] = 3;"
   ]
  },
  {
   "cell_type": "code",
   "execution_count": null,
   "id": "cdcd78f6",
   "metadata": {},
   "outputs": [],
   "source": []
  },
  {
   "cell_type": "code",
   "execution_count": 61,
   "id": "16251122",
   "metadata": {},
   "outputs": [],
   "source": [
    "data.to_csv('./data/out1.csv')"
   ]
  },
  {
   "cell_type": "code",
   "execution_count": 65,
   "id": "d27953d1",
   "metadata": {},
   "outputs": [],
   "source": [
    "data1 = pd.read_csv('data/out1.csv')\n",
    "data1.head(5)\n",
    "data1.loc[(data['consume'] == '$40K - $60K'),'consume'] = 32;\n",
    "data1.loc[(data['consume'] == '$60K - $80K'),'consume'] = 32;\n",
    "data1.loc[(data['consume'] == '$80K - $120K'),'consume'] = 33;\n"
   ]
  },
  {
   "cell_type": "code",
   "execution_count": 66,
   "id": "9e418db0",
   "metadata": {},
   "outputs": [
    {
     "data": {
      "text/html": [
       "<div>\n",
       "<style scoped>\n",
       "    .dataframe tbody tr th:only-of-type {\n",
       "        vertical-align: middle;\n",
       "    }\n",
       "\n",
       "    .dataframe tbody tr th {\n",
       "        vertical-align: top;\n",
       "    }\n",
       "\n",
       "    .dataframe thead th {\n",
       "        text-align: right;\n",
       "    }\n",
       "</style>\n",
       "<table border=\"1\" class=\"dataframe\">\n",
       "  <thead>\n",
       "    <tr style=\"text-align: right;\">\n",
       "      <th></th>\n",
       "      <th>Unnamed: 0</th>\n",
       "      <th>is_increase</th>\n",
       "      <th>age</th>\n",
       "      <th>Gender</th>\n",
       "      <th>Cellphone</th>\n",
       "      <th>Education_Level</th>\n",
       "      <th>Marital_Status</th>\n",
       "      <th>consume</th>\n",
       "      <th>Level</th>\n",
       "      <th>Total_Relationship_Count</th>\n",
       "    </tr>\n",
       "  </thead>\n",
       "  <tbody>\n",
       "    <tr>\n",
       "      <th>0</th>\n",
       "      <td>0</td>\n",
       "      <td>0</td>\n",
       "      <td>2</td>\n",
       "      <td>M</td>\n",
       "      <td>3</td>\n",
       "      <td>1</td>\n",
       "      <td>Married</td>\n",
       "      <td>$60K - $80K</td>\n",
       "      <td>Blue</td>\n",
       "      <td>5</td>\n",
       "    </tr>\n",
       "    <tr>\n",
       "      <th>1</th>\n",
       "      <td>1</td>\n",
       "      <td>0</td>\n",
       "      <td>2</td>\n",
       "      <td>F</td>\n",
       "      <td>5</td>\n",
       "      <td>2</td>\n",
       "      <td>Single</td>\n",
       "      <td>31</td>\n",
       "      <td>Blue</td>\n",
       "      <td>6</td>\n",
       "    </tr>\n",
       "    <tr>\n",
       "      <th>2</th>\n",
       "      <td>2</td>\n",
       "      <td>0</td>\n",
       "      <td>1</td>\n",
       "      <td>M</td>\n",
       "      <td>3</td>\n",
       "      <td>2</td>\n",
       "      <td>Married</td>\n",
       "      <td>$80K - $120K</td>\n",
       "      <td>Blue</td>\n",
       "      <td>4</td>\n",
       "    </tr>\n",
       "    <tr>\n",
       "      <th>3</th>\n",
       "      <td>3</td>\n",
       "      <td>0</td>\n",
       "      <td>3</td>\n",
       "      <td>F</td>\n",
       "      <td>4</td>\n",
       "      <td>1</td>\n",
       "      <td>Unknown</td>\n",
       "      <td>31</td>\n",
       "      <td>Blue</td>\n",
       "      <td>3</td>\n",
       "    </tr>\n",
       "    <tr>\n",
       "      <th>4</th>\n",
       "      <td>4</td>\n",
       "      <td>0</td>\n",
       "      <td>3</td>\n",
       "      <td>M</td>\n",
       "      <td>3</td>\n",
       "      <td>1</td>\n",
       "      <td>Married</td>\n",
       "      <td>$60K - $80K</td>\n",
       "      <td>Blue</td>\n",
       "      <td>5</td>\n",
       "    </tr>\n",
       "  </tbody>\n",
       "</table>\n",
       "</div>"
      ],
      "text/plain": [
       "   Unnamed: 0  is_increase  age Gender  Cellphone Education_Level  \\\n",
       "0           0            0    2      M          3               1   \n",
       "1           1            0    2      F          5               2   \n",
       "2           2            0    1      M          3               2   \n",
       "3           3            0    3      F          4               1   \n",
       "4           4            0    3      M          3               1   \n",
       "\n",
       "  Marital_Status       consume Level  Total_Relationship_Count  \n",
       "0        Married   $60K - $80K  Blue                         5  \n",
       "1         Single            31  Blue                         6  \n",
       "2        Married  $80K - $120K  Blue                         4  \n",
       "3        Unknown            31  Blue                         3  \n",
       "4        Married   $60K - $80K  Blue                         5  "
      ]
     },
     "execution_count": 66,
     "metadata": {},
     "output_type": "execute_result"
    }
   ],
   "source": [
    "data1.head(5)"
   ]
  },
  {
   "cell_type": "code",
   "execution_count": 70,
   "id": "7073d921",
   "metadata": {},
   "outputs": [],
   "source": [
    "data1.loc[(data['Cellphone']=='0'), 'Cellphone'] = 21;\n",
    "data1.loc[(data['Cellphone']=='1'), 'Cellphone'] = 21;\n",
    "data1.loc[(data['Cellphone']=='2'), 'Cellphone'] = 21;"
   ]
  },
  {
   "cell_type": "code",
   "execution_count": 71,
   "id": "8853c725",
   "metadata": {},
   "outputs": [],
   "source": [
    "data1.loc[(data['Cellphone']=='3'), 'Cellphone'] = 22;\n",
    "data1.loc[(data['Cellphone']=='4'), 'Cellphone'] = 22;\n",
    "data1.loc[(data['Cellphone']=='5'), 'Cellphone'] = 22;"
   ]
  },
  {
   "cell_type": "code",
   "execution_count": 72,
   "id": "658dc2ee",
   "metadata": {},
   "outputs": [],
   "source": [
    "data1.to_csv('./data/out.csv')"
   ]
  },
  {
   "cell_type": "code",
   "execution_count": null,
   "id": "c4efffb5",
   "metadata": {},
   "outputs": [],
   "source": [
    "data.head()"
   ]
  }
 ],
 "metadata": {
  "kernelspec": {
   "display_name": "Python 3",
   "language": "python",
   "name": "python3"
  },
  "language_info": {
   "codemirror_mode": {
    "name": "ipython",
    "version": 3
   },
   "file_extension": ".py",
   "mimetype": "text/x-python",
   "name": "python",
   "nbconvert_exporter": "python",
   "pygments_lexer": "ipython3",
   "version": "3.9.1"
  }
 },
 "nbformat": 4,
 "nbformat_minor": 5
}
