{
 "cells": [
  {
   "cell_type": "code",
   "execution_count": 1,
   "id": "67942025",
   "metadata": {},
   "outputs": [
    {
     "data": {
      "text/plain": [
       "(7081, 9)"
      ]
     },
     "execution_count": 1,
     "metadata": {},
     "output_type": "execute_result"
    }
   ],
   "source": [
    "import pandas as pd\n",
    "import numpy as np\n",
    "\n",
    "data = pd.read_csv('data/telcom_users_steam.csv')\n",
    "data.shape"
   ]
  },
  {
   "cell_type": "code",
   "execution_count": 2,
   "id": "f57a7b99",
   "metadata": {},
   "outputs": [],
   "source": [
    "import pandas as pd\n",
    "from imblearn.over_sampling import SMOTE\n",
    "from sklearn.metrics import confusion_matrix\n",
    "from sklearn.model_selection import train_test_split"
   ]
  },
  {
   "cell_type": "code",
   "execution_count": 3,
   "id": "1c29dda7",
   "metadata": {},
   "outputs": [
    {
     "data": {
      "text/html": [
       "<div>\n",
       "<style scoped>\n",
       "    .dataframe tbody tr th:only-of-type {\n",
       "        vertical-align: middle;\n",
       "    }\n",
       "\n",
       "    .dataframe tbody tr th {\n",
       "        vertical-align: top;\n",
       "    }\n",
       "\n",
       "    .dataframe thead th {\n",
       "        text-align: right;\n",
       "    }\n",
       "</style>\n",
       "<table border=\"1\" class=\"dataframe\">\n",
       "  <thead>\n",
       "    <tr style=\"text-align: right;\">\n",
       "      <th></th>\n",
       "      <th>is_increase</th>\n",
       "      <th>age</th>\n",
       "      <th>Education_Level</th>\n",
       "      <th>consume</th>\n",
       "      <th>App</th>\n",
       "      <th>Gender_F</th>\n",
       "      <th>Gender_M</th>\n",
       "      <th>Cellphone_Android</th>\n",
       "      <th>Cellphone_iPhone</th>\n",
       "      <th>Marital_Status_Divorced</th>\n",
       "      <th>Marital_Status_Married</th>\n",
       "      <th>Marital_Status_Single</th>\n",
       "      <th>Level_Blue</th>\n",
       "      <th>Level_Gold</th>\n",
       "      <th>Level_Platinum</th>\n",
       "      <th>Level_Silver</th>\n",
       "    </tr>\n",
       "  </thead>\n",
       "  <tbody>\n",
       "    <tr>\n",
       "      <th>0</th>\n",
       "      <td>0</td>\n",
       "      <td>2</td>\n",
       "      <td>1</td>\n",
       "      <td>32</td>\n",
       "      <td>5</td>\n",
       "      <td>0</td>\n",
       "      <td>1</td>\n",
       "      <td>0</td>\n",
       "      <td>1</td>\n",
       "      <td>0</td>\n",
       "      <td>1</td>\n",
       "      <td>0</td>\n",
       "      <td>1</td>\n",
       "      <td>0</td>\n",
       "      <td>0</td>\n",
       "      <td>0</td>\n",
       "    </tr>\n",
       "    <tr>\n",
       "      <th>1</th>\n",
       "      <td>0</td>\n",
       "      <td>2</td>\n",
       "      <td>2</td>\n",
       "      <td>31</td>\n",
       "      <td>6</td>\n",
       "      <td>1</td>\n",
       "      <td>0</td>\n",
       "      <td>0</td>\n",
       "      <td>1</td>\n",
       "      <td>0</td>\n",
       "      <td>0</td>\n",
       "      <td>1</td>\n",
       "      <td>1</td>\n",
       "      <td>0</td>\n",
       "      <td>0</td>\n",
       "      <td>0</td>\n",
       "    </tr>\n",
       "    <tr>\n",
       "      <th>2</th>\n",
       "      <td>0</td>\n",
       "      <td>1</td>\n",
       "      <td>2</td>\n",
       "      <td>33</td>\n",
       "      <td>4</td>\n",
       "      <td>0</td>\n",
       "      <td>1</td>\n",
       "      <td>0</td>\n",
       "      <td>1</td>\n",
       "      <td>0</td>\n",
       "      <td>1</td>\n",
       "      <td>0</td>\n",
       "      <td>1</td>\n",
       "      <td>0</td>\n",
       "      <td>0</td>\n",
       "      <td>0</td>\n",
       "    </tr>\n",
       "    <tr>\n",
       "      <th>3</th>\n",
       "      <td>0</td>\n",
       "      <td>3</td>\n",
       "      <td>1</td>\n",
       "      <td>32</td>\n",
       "      <td>5</td>\n",
       "      <td>0</td>\n",
       "      <td>1</td>\n",
       "      <td>0</td>\n",
       "      <td>1</td>\n",
       "      <td>0</td>\n",
       "      <td>1</td>\n",
       "      <td>0</td>\n",
       "      <td>1</td>\n",
       "      <td>0</td>\n",
       "      <td>0</td>\n",
       "      <td>0</td>\n",
       "    </tr>\n",
       "    <tr>\n",
       "      <th>4</th>\n",
       "      <td>0</td>\n",
       "      <td>2</td>\n",
       "      <td>2</td>\n",
       "      <td>32</td>\n",
       "      <td>3</td>\n",
       "      <td>0</td>\n",
       "      <td>1</td>\n",
       "      <td>1</td>\n",
       "      <td>0</td>\n",
       "      <td>0</td>\n",
       "      <td>1</td>\n",
       "      <td>0</td>\n",
       "      <td>1</td>\n",
       "      <td>0</td>\n",
       "      <td>0</td>\n",
       "      <td>0</td>\n",
       "    </tr>\n",
       "  </tbody>\n",
       "</table>\n",
       "</div>"
      ],
      "text/plain": [
       "   is_increase  age  Education_Level  consume  App  Gender_F  Gender_M  \\\n",
       "0            0    2                1       32    5         0         1   \n",
       "1            0    2                2       31    6         1         0   \n",
       "2            0    1                2       33    4         0         1   \n",
       "3            0    3                1       32    5         0         1   \n",
       "4            0    2                2       32    3         0         1   \n",
       "\n",
       "   Cellphone_Android  Cellphone_iPhone  Marital_Status_Divorced  \\\n",
       "0                  0                 1                        0   \n",
       "1                  0                 1                        0   \n",
       "2                  0                 1                        0   \n",
       "3                  0                 1                        0   \n",
       "4                  1                 0                        0   \n",
       "\n",
       "   Marital_Status_Married  Marital_Status_Single  Level_Blue  Level_Gold  \\\n",
       "0                       1                      0           1           0   \n",
       "1                       0                      1           1           0   \n",
       "2                       1                      0           1           0   \n",
       "3                       1                      0           1           0   \n",
       "4                       1                      0           1           0   \n",
       "\n",
       "   Level_Platinum  Level_Silver  \n",
       "0               0             0  \n",
       "1               0             0  \n",
       "2               0             0  \n",
       "3               0             0  \n",
       "4               0             0  "
      ]
     },
     "execution_count": 3,
     "metadata": {},
     "output_type": "execute_result"
    }
   ],
   "source": [
    "# 独热编码\n",
    "data = pd.get_dummies(data)\n",
    "data.head(5)"
   ]
  },
  {
   "cell_type": "code",
   "execution_count": 4,
   "id": "0ba13e2a",
   "metadata": {},
   "outputs": [],
   "source": [
    "#去除标签，并转换一下数据格式\n",
    "# 数据与标签\n",
    "import numpy as np\n",
    "# 标签\n",
    "labels = np.array(data['is_increase'])\n",
    "# 在特征中去掉标签\n",
    "features= data.drop('is_increase', axis = 1)\n",
    "# 名字单独保存一下，以备后患\n",
    "feature_list = list(features.columns)"
   ]
  },
  {
   "cell_type": "code",
   "execution_count": 5,
   "id": "bf83a9ba",
   "metadata": {},
   "outputs": [],
   "source": [
    "# 数据集切分\n",
    "from sklearn.model_selection import train_test_split\n",
    "\n",
    "train_features, test_features, train_labels, test_labels = train_test_split(features, labels, test_size = 0.25,\n",
    "                                                                           random_state = 42)"
   ]
  },
  {
   "cell_type": "code",
   "execution_count": 6,
   "id": "02c89ad8",
   "metadata": {},
   "outputs": [],
   "source": [
    "oversampler=SMOTE(random_state=0)\n"
   ]
  },
  {
   "cell_type": "code",
   "execution_count": null,
   "id": "cdadcdda",
   "metadata": {},
   "outputs": [],
   "source": []
  },
  {
   "cell_type": "code",
   "execution_count": 7,
   "id": "5ca3906f",
   "metadata": {},
   "outputs": [],
   "source": [
    "train_features,train_labels=oversampler.fit_resample(train_features,train_labels)"
   ]
  },
  {
   "cell_type": "code",
   "execution_count": 8,
   "id": "9ddde0b2",
   "metadata": {},
   "outputs": [
    {
     "name": "stdout",
     "output_type": "stream",
     "text": [
      "训练集特征: (8936, 15)\n",
      "训练集标签: (8936,)\n",
      "测试集特征: (1771, 15)\n",
      "测试集标签: (1771,)\n"
     ]
    }
   ],
   "source": [
    "print('训练集特征:', train_features.shape)\n",
    "print('训练集标签:', train_labels.shape)\n",
    "print('测试集特征:', test_features.shape)\n",
    "print('测试集标签:', test_labels.shape)"
   ]
  },
  {
   "cell_type": "code",
   "execution_count": 9,
   "id": "72de4b1d",
   "metadata": {},
   "outputs": [
    {
     "data": {
      "text/plain": [
       "271"
      ]
     },
     "execution_count": 9,
     "metadata": {},
     "output_type": "execute_result"
    }
   ],
   "source": [
    "test_labels.sum()\n",
    "\n"
   ]
  },
  {
   "cell_type": "code",
   "execution_count": 10,
   "id": "f7188012",
   "metadata": {},
   "outputs": [
    {
     "data": {
      "text/plain": [
       "RandomForestClassifier(criterion='entropy', n_estimators=1000, random_state=42)"
      ]
     },
     "execution_count": 10,
     "metadata": {},
     "output_type": "execute_result"
    }
   ],
   "source": [
    "from sklearn.ensemble import RandomForestClassifier\n",
    "classifier = RandomForestClassifier(n_estimators = 1000, criterion = 'entropy', random_state =42)\n",
    "classifier.fit(train_features, train_labels)"
   ]
  },
  {
   "cell_type": "code",
   "execution_count": 11,
   "id": "10725ecb",
   "metadata": {},
   "outputs": [],
   "source": [
    "y_pred = classifier.predict(test_features)"
   ]
  },
  {
   "cell_type": "code",
   "execution_count": 16,
   "id": "ad2f329d",
   "metadata": {},
   "outputs": [],
   "source": [
    "# Making the Confusion Matrix\n",
    "from sklearn.metrics import confusion_matrix\n",
    "cm = confusion_matrix(test_labels, y_pred)"
   ]
  },
  {
   "cell_type": "code",
   "execution_count": 17,
   "id": "48d9183d",
   "metadata": {},
   "outputs": [
    {
     "data": {
      "text/plain": [
       "array([[1050,  450],\n",
       "       [ 171,  100]], dtype=int64)"
      ]
     },
     "execution_count": 17,
     "metadata": {},
     "output_type": "execute_result"
    }
   ],
   "source": [
    "cm"
   ]
  },
  {
   "cell_type": "code",
   "execution_count": 18,
   "id": "e985cf4d",
   "metadata": {},
   "outputs": [
    {
     "data": {
      "text/plain": [
       "array([[1088,   12],\n",
       "       [  24,  647]])"
      ]
     },
     "execution_count": 18,
     "metadata": {},
     "output_type": "execute_result"
    }
   ],
   "source": [
    "Ca = np.array([[1088,12],[24,647]])\n",
    "Ca"
   ]
  },
  {
   "cell_type": "code",
   "execution_count": 15,
   "id": "0f27f8a6",
   "metadata": {},
   "outputs": [],
   "source": [
    "\n",
    "from sklearn.metrics import roc_curve, auc  ###计算roc和auc\n",
    "fpr,tpr,threshold = roc_curve(test_labels, y_pred) ###计算真正率和假正率\n",
    "roc_auc = auc(fpr,tpr) ###计算auc的值\n"
   ]
  },
  {
   "cell_type": "code",
   "execution_count": 20,
   "id": "3c0aff15",
   "metadata": {},
   "outputs": [
    {
     "data": {
      "text/plain": [
       "<Figure size 432x288 with 0 Axes>"
      ]
     },
     "metadata": {},
     "output_type": "display_data"
    },
    {
     "data": {
      "image/png": "[encoded data removed]",
      "text/plain": [
       "<Figure size 720x720 with 1 Axes>"
      ]
     },
     "metadata": {
      "needs_background": "light"
     },
     "output_type": "display_data"
    }
   ],
   "source": [
    "import matplotlib.pyplot as plt\n",
    " \n",
    "plt.figure()\n",
    "lw = 2\n",
    "plt.figure(figsize=(10,10))\n",
    "plt.plot(fpr, tpr, color='darkorange',\n",
    "         lw=lw, label='ROC curve (area = %0.2f)' % roc_auc) ###假正率为横坐标，真正率为纵坐标做曲线\n",
    "plt.plot([0, 1], [0, 1], color='navy', lw=lw, linestyle='--')\n",
    "plt.xlim([0.0, 1.0])\n",
    "plt.ylim([0.0, 1.05])\n",
    "plt.xlabel('False Positive Rate')\n",
    "plt.ylabel('True Positive Rate')\n",
    "plt.title('Receiver operating characteristic example')\n",
    "plt.legend(loc=\"lower right\")\n",
    "plt.show()\n"
   ]
  },
  {
   "cell_type": "code",
   "execution_count": 15,
   "id": "7815f878",
   "metadata": {},
   "outputs": [
    {
     "ename": "NameError",
     "evalue": "name 'plt' is not defined",
     "output_type": "error",
     "traceback": [
      "\u001b[1;31m---------------------------------------------------------------------------\u001b[0m",
      "\u001b[1;31mNameError\u001b[0m                                 Traceback (most recent call last)",
      "\u001b[1;32m<ipython-input-15-edead5549f60>\u001b[0m in \u001b[0;36m<module>\u001b[1;34m\u001b[0m\n\u001b[0;32m      2\u001b[0m \u001b[1;32mimport\u001b[0m \u001b[0mitertools\u001b[0m\u001b[1;33m\u001b[0m\u001b[1;33m\u001b[0m\u001b[0m\n\u001b[0;32m      3\u001b[0m \u001b[0mclass_names\u001b[0m \u001b[1;33m=\u001b[0m \u001b[1;33m[\u001b[0m\u001b[1;36m0\u001b[0m\u001b[1;33m,\u001b[0m\u001b[1;36m1\u001b[0m\u001b[1;33m]\u001b[0m\u001b[1;33m\u001b[0m\u001b[1;33m\u001b[0m\u001b[0m\n\u001b[1;32m----> 4\u001b[1;33m \u001b[0mplt\u001b[0m\u001b[1;33m.\u001b[0m\u001b[0mfigure\u001b[0m\u001b[1;33m(\u001b[0m\u001b[1;33m)\u001b[0m\u001b[1;33m\u001b[0m\u001b[1;33m\u001b[0m\u001b[0m\n\u001b[0m\u001b[0;32m      5\u001b[0m plot_confusion_matrix(Ca                    , classes=class_names\n\u001b[0;32m      6\u001b[0m                       , title='Confusion matrix')\n",
      "\u001b[1;31mNameError\u001b[0m: name 'plt' is not defined"
     ]
    }
   ],
   "source": []
  },
  {
   "cell_type": "code",
   "execution_count": null,
   "id": "eddc0765",
   "metadata": {},
   "outputs": [],
   "source": [
    "def plot_confusion_matrix(cm, classes,\n",
    "                          title='Confusion matrix',\n",
    "                          cmap=plt.cm.Blues):\n",
    "    \"\"\"\n",
    "    绘制混淆矩阵\n",
    "    \"\"\"\n",
    "    plt.imshow(cm, interpolation='nearest', cmap=cmap)\n",
    "    plt.title(title)\n",
    "    plt.colorbar()\n",
    "    tick_marks = np.arange(len(classes))\n",
    "    plt.xticks(tick_marks, classes, rotation=0)\n",
    "    plt.yticks(tick_marks, classes)\n",
    "\n",
    "    thresh = cm.max() / 2.\n",
    "    for i, j in itertools.product(range(cm.shape[0]), range(cm.shape[1])):\n",
    "        plt.text(j, i, cm[i, j],\n",
    "                 horizontalalignment=\"center\",\n",
    "                 color=\"white\" if cm[i, j] > thresh else \"black\")\n",
    "\n",
    "    plt.tight_layout()\n",
    "    plt.ylabel('True label')\n",
    "    plt.xlabel('Predicted label')"
   ]
  },
  {
   "cell_type": "code",
   "execution_count": 19,
   "id": "04741925",
   "metadata": {},
   "outputs": [
    {
     "ename": "NameError",
     "evalue": "name 'plt' is not defined",
     "output_type": "error",
     "traceback": [
      "\u001b[1;31m---------------------------------------------------------------------------\u001b[0m",
      "\u001b[1;31mNameError\u001b[0m                                 Traceback (most recent call last)",
      "\u001b[1;32m<ipython-input-19-edead5549f60>\u001b[0m in \u001b[0;36m<module>\u001b[1;34m\u001b[0m\n\u001b[0;32m      2\u001b[0m \u001b[1;32mimport\u001b[0m \u001b[0mitertools\u001b[0m\u001b[1;33m\u001b[0m\u001b[1;33m\u001b[0m\u001b[0m\n\u001b[0;32m      3\u001b[0m \u001b[0mclass_names\u001b[0m \u001b[1;33m=\u001b[0m \u001b[1;33m[\u001b[0m\u001b[1;36m0\u001b[0m\u001b[1;33m,\u001b[0m\u001b[1;36m1\u001b[0m\u001b[1;33m]\u001b[0m\u001b[1;33m\u001b[0m\u001b[1;33m\u001b[0m\u001b[0m\n\u001b[1;32m----> 4\u001b[1;33m \u001b[0mplt\u001b[0m\u001b[1;33m.\u001b[0m\u001b[0mfigure\u001b[0m\u001b[1;33m(\u001b[0m\u001b[1;33m)\u001b[0m\u001b[1;33m\u001b[0m\u001b[1;33m\u001b[0m\u001b[0m\n\u001b[0m\u001b[0;32m      5\u001b[0m plot_confusion_matrix(Ca                    , classes=class_names\n\u001b[0;32m      6\u001b[0m                       , title='Confusion matrix')\n",
      "\u001b[1;31mNameError\u001b[0m: name 'plt' is not defined"
     ]
    }
   ],
   "source": [
    "# 绘制\n",
    "import itertools\n",
    "class_names = [0,1]\n",
    "plt.figure()\n",
    "plot_confusion_matrix(Ca                    , classes=class_names\n",
    "                      , title='Confusion matrix')\n",
    "plt.show()"
   ]
  },
  {
   "cell_type": "code",
   "execution_count": null,
   "id": "be4100f0",
   "metadata": {},
   "outputs": [],
   "source": [
    "# 导入所需工具包\n",
    "from sklearn.tree import export_graphviz\n",
    "import pydot #pip install pydot"
   ]
  },
  {
   "cell_type": "code",
   "execution_count": null,
   "id": "cc27547d",
   "metadata": {},
   "outputs": [],
   "source": [
    "# 得到特征重要性\n",
    "importances = list(classifier.feature_importances_)\n",
    "# 转换格式\n",
    "feature_importances = [(feature, round(importance, 2)) for feature, importance in zip(feature_list, importances)]\n",
    "# 排序\n",
    "feature_importances = sorted(feature_importances, key = lambda x: x[1], reverse = True)\n",
    "\n",
    "# 对应进行打印\n",
    "[print('Variable: {:20} Importance: {}'.format(*pair)) for pair in feature_importances]"
   ]
  },
  {
   "cell_type": "code",
   "execution_count": null,
   "id": "7aa3e502",
   "metadata": {},
   "outputs": [],
   "source": [
    "import matplotlib.pyplot as plt\n",
    "\n",
    "# 指定位置\n",
    "x_values = list(range(len(importances)))\n",
    "\n",
    "# 对特征进行排序\n",
    "sorted_importances = [importance[1] for importance in feature_importances]\n",
    "sorted_features = [importance[0] for importance in feature_importances]\n",
    "\n",
    "# 累计重要性\n",
    "cumulative_importances = np.cumsum(sorted_importances)\n",
    "\n",
    "# 绘制折线图\n",
    "plt.plot(x_values, cumulative_importances, 'g-')\n",
    "\n",
    "# 画一条红色虚线，0.95那\n",
    "plt.hlines(y = 0.95, xmin=0, xmax=len(sorted_importances), color = 'r', linestyles = 'dashed')\n",
    "\n",
    "# X轴\n",
    "plt.xticks(x_values, sorted_features, rotation = 'vertical')\n",
    "\n",
    "# Y轴和名字\n",
    "plt.xlabel('Variable'); plt.ylabel('Cumulative Importance'); plt.title('Cumulative Importances');"
   ]
  },
  {
   "cell_type": "code",
   "execution_count": null,
   "id": "177b365b",
   "metadata": {},
   "outputs": [],
   "source": [
    "# 对特征进行排序\n",
    "sorted_importances = [importance[1] for importance in feature_importances]\n",
    "sorted_features = [importance[0] for importance in feature_importances]\n",
    "# 累计重要性\n",
    "cumulative_importances = np.cumsum(sorted_importances)\n",
    "# 绘制折线图\n",
    "plt.plot(x_values, cumulative_importances, 'g-')\n",
    "# 画一条红色虚线，0.95那\n",
    "plt.hlines(y = 0.95, xmin=0, xmax=len(sorted_importances), color = 'r', linestyles = 'dashed')\n",
    "# X轴\n",
    "plt.xticks(x_values, sorted_features, rotation = 'vertical')\n",
    "# Y轴和名字\n",
    "plt.xlabel('Variable'); plt.ylabel('Cumulative Importance'); plt.title('Cumulative Importances');\n",
    "\n"
   ]
  },
  {
   "cell_type": "code",
   "execution_count": 16,
   "id": "3dfc0db3",
   "metadata": {},
   "outputs": [
    {
     "data": {
      "text/plain": [
       "(      age  Education_Level  consume  App  Gender_F  Gender_M  \\\n",
       " 0       2                2       33    2         0         1   \n",
       " 1       1                1       33    1         0         1   \n",
       " 2       2                3       32    1         1         0   \n",
       " 3       2                1       31    3         1         0   \n",
       " 4       2                2       32    3         0         1   \n",
       " ...   ...              ...      ...  ...       ...       ...   \n",
       " 8931    3                2       32    2         0         1   \n",
       " 8932    2                3       33    3         0         1   \n",
       " 8933    6                2       31    3         1         0   \n",
       " 8934    2                2       31    5         1         0   \n",
       " 8935    2                1       32    5         0         1   \n",
       " \n",
       "       Cellphone_Android  Cellphone_iPhone  Marital_Status_Divorced  \\\n",
       " 0                     0                 1                        0   \n",
       " 1                     1                 0                        0   \n",
       " 2                     0                 1                        0   \n",
       " 3                     1                 0                        0   \n",
       " 4                     0                 1                        0   \n",
       " ...                 ...               ...                      ...   \n",
       " 8931                  1                 0                        0   \n",
       " 8932                  0                 1                        0   \n",
       " 8933                  1                 0                        0   \n",
       " 8934                  0                 1                        0   \n",
       " 8935                  0                 1                        0   \n",
       " \n",
       "       Marital_Status_Married  Marital_Status_Single  Level_Blue  Level_Gold  \\\n",
       " 0                          1                      0           1           0   \n",
       " 1                          0                      1           1           0   \n",
       " 2                          0                      1           1           0   \n",
       " 3                          0                      1           1           0   \n",
       " 4                          0                      1           1           0   \n",
       " ...                      ...                    ...         ...         ...   \n",
       " 8931                       1                      0           1           0   \n",
       " 8932                       0                      1           1           0   \n",
       " 8933                       0                      0           1           0   \n",
       " 8934                       1                      0           1           0   \n",
       " 8935                       0                      1           0           0   \n",
       " \n",
       "       Level_Platinum  Level_Silver  \n",
       " 0                  0             0  \n",
       " 1                  0             0  \n",
       " 2                  0             0  \n",
       " 3                  0             0  \n",
       " 4                  0             0  \n",
       " ...              ...           ...  \n",
       " 8931               0             0  \n",
       " 8932               0             0  \n",
       " 8933               0             0  \n",
       " 8934               0             0  \n",
       " 8935               0             0  \n",
       " \n",
       " [8936 rows x 15 columns],\n",
       "       age  Education_Level  consume  App  Gender_F  Gender_M  \\\n",
       " 6885    3                2       32    4         1         0   \n",
       " 6438    2                2       32    2         0         1   \n",
       " 711     2                2       31    5         1         0   \n",
       " 1499    4                3       31    3         1         0   \n",
       " 1905    1                2       32    6         0         1   \n",
       " ...   ...              ...      ...  ...       ...       ...   \n",
       " 6466    1                2       31    2         1         0   \n",
       " 1471    3                1       33    4         0         1   \n",
       " 4307    2                3       32    4         0         1   \n",
       " 6477    1                1       33    1         0         1   \n",
       " 2131    3                2       31    3         1         0   \n",
       " \n",
       "       Cellphone_Android  Cellphone_iPhone  Marital_Status_Divorced  \\\n",
       " 6885                  1                 0                        0   \n",
       " 6438                  0                 1                        0   \n",
       " 711                   1                 0                        0   \n",
       " 1499                  1                 0                        0   \n",
       " 1905                  1                 0                        0   \n",
       " ...                 ...               ...                      ...   \n",
       " 6466                  0                 1                        0   \n",
       " 1471                  1                 0                        0   \n",
       " 4307                  1                 0                        0   \n",
       " 6477                  1                 0                        0   \n",
       " 2131                  0                 1                        0   \n",
       " \n",
       "       Marital_Status_Married  Marital_Status_Single  Level_Blue  Level_Gold  \\\n",
       " 6885                       0                      1           1           0   \n",
       " 6438                       0                      1           1           0   \n",
       " 711                        1                      0           1           0   \n",
       " 1499                       0                      1           1           0   \n",
       " 1905                       1                      0           1           0   \n",
       " ...                      ...                    ...         ...         ...   \n",
       " 6466                       1                      0           1           0   \n",
       " 1471                       0                      1           1           0   \n",
       " 4307                       1                      0           1           0   \n",
       " 6477                       1                      0           1           0   \n",
       " 2131                       0                      1           0           0   \n",
       " \n",
       "       Level_Platinum  Level_Silver  \n",
       " 6885               0             0  \n",
       " 6438               0             0  \n",
       " 711                0             0  \n",
       " 1499               0             0  \n",
       " 1905               0             0  \n",
       " ...              ...           ...  \n",
       " 6466               0             0  \n",
       " 1471               0             0  \n",
       " 4307               0             0  \n",
       " 6477               0             0  \n",
       " 2131               0             1  \n",
       " \n",
       " [1771 rows x 15 columns])"
      ]
     },
     "execution_count": 16,
     "metadata": {},
     "output_type": "execute_result"
    }
   ],
   "source": [
    "train_features, test_features"
   ]
  },
  {
   "cell_type": "code",
   "execution_count": 17,
   "id": "a7458840",
   "metadata": {},
   "outputs": [
    {
     "ename": "NameError",
     "evalue": "name 'feature_importances' is not defined",
     "output_type": "error",
     "traceback": [
      "\u001b[1;31m---------------------------------------------------------------------------\u001b[0m",
      "\u001b[1;31mNameError\u001b[0m                                 Traceback (most recent call last)",
      "\u001b[1;32m<ipython-input-17-cc75c9d3fa14>\u001b[0m in \u001b[0;36m<module>\u001b[1;34m\u001b[0m\n\u001b[0;32m      1\u001b[0m \u001b[1;31m# 选择这些特征\u001b[0m\u001b[1;33m\u001b[0m\u001b[1;33m\u001b[0m\u001b[1;33m\u001b[0m\u001b[0m\n\u001b[1;32m----> 2\u001b[1;33m \u001b[0mimportant_feature_names\u001b[0m \u001b[1;33m=\u001b[0m \u001b[1;33m[\u001b[0m\u001b[0mfeature\u001b[0m\u001b[1;33m[\u001b[0m\u001b[1;36m0\u001b[0m\u001b[1;33m]\u001b[0m \u001b[1;32mfor\u001b[0m \u001b[0mfeature\u001b[0m \u001b[1;32min\u001b[0m \u001b[0mfeature_importances\u001b[0m\u001b[1;33m[\u001b[0m\u001b[1;36m0\u001b[0m\u001b[1;33m:\u001b[0m\u001b[1;36m5\u001b[0m\u001b[1;33m]\u001b[0m\u001b[1;33m]\u001b[0m\u001b[1;33m\u001b[0m\u001b[1;33m\u001b[0m\u001b[0m\n\u001b[0m\u001b[0;32m      3\u001b[0m \u001b[1;31m# 找到它们的名字\u001b[0m\u001b[1;33m\u001b[0m\u001b[1;33m\u001b[0m\u001b[1;33m\u001b[0m\u001b[0m\n\u001b[0;32m      4\u001b[0m \u001b[0mimportant_indices\u001b[0m \u001b[1;33m=\u001b[0m \u001b[1;33m[\u001b[0m\u001b[0mfeature_list\u001b[0m\u001b[1;33m.\u001b[0m\u001b[0mindex\u001b[0m\u001b[1;33m(\u001b[0m\u001b[0mfeature\u001b[0m\u001b[1;33m)\u001b[0m \u001b[1;32mfor\u001b[0m \u001b[0mfeature\u001b[0m \u001b[1;32min\u001b[0m \u001b[0mimportant_feature_names\u001b[0m\u001b[1;33m]\u001b[0m\u001b[1;33m\u001b[0m\u001b[1;33m\u001b[0m\u001b[0m\n\u001b[0;32m      5\u001b[0m \u001b[1;33m\u001b[0m\u001b[0m\n",
      "\u001b[1;31mNameError\u001b[0m: name 'feature_importances' is not defined"
     ]
    }
   ],
   "source": [
    "# 选择这些特征\n",
    "important_feature_names = [feature[0] for feature in feature_importances[0:5]]\n",
    "# 找到它们的名字\n",
    "important_indices = [feature_list.index(feature) for feature in important_feature_names]\n",
    "\n"
   ]
  },
  {
   "cell_type": "code",
   "execution_count": 18,
   "id": "0dfe66d8",
   "metadata": {},
   "outputs": [
    {
     "ename": "NameError",
     "evalue": "name 'important_indices' is not defined",
     "output_type": "error",
     "traceback": [
      "\u001b[1;31m---------------------------------------------------------------------------\u001b[0m",
      "\u001b[1;31mNameError\u001b[0m                                 Traceback (most recent call last)",
      "\u001b[1;32m<ipython-input-18-b0742ee93c64>\u001b[0m in \u001b[0;36m<module>\u001b[1;34m\u001b[0m\n\u001b[1;32m----> 1\u001b[1;33m \u001b[0mimportant_indices\u001b[0m\u001b[1;33m\u001b[0m\u001b[1;33m\u001b[0m\u001b[0m\n\u001b[0m",
      "\u001b[1;31mNameError\u001b[0m: name 'important_indices' is not defined"
     ]
    }
   ],
   "source": [
    "important_indices"
   ]
  },
  {
   "cell_type": "code",
   "execution_count": 19,
   "id": "81691955",
   "metadata": {},
   "outputs": [
    {
     "data": {
      "text/html": [
       "<div>\n",
       "<style scoped>\n",
       "    .dataframe tbody tr th:only-of-type {\n",
       "        vertical-align: middle;\n",
       "    }\n",
       "\n",
       "    .dataframe tbody tr th {\n",
       "        vertical-align: top;\n",
       "    }\n",
       "\n",
       "    .dataframe thead th {\n",
       "        text-align: right;\n",
       "    }\n",
       "</style>\n",
       "<table border=\"1\" class=\"dataframe\">\n",
       "  <thead>\n",
       "    <tr style=\"text-align: right;\">\n",
       "      <th></th>\n",
       "      <th>age</th>\n",
       "      <th>Education_Level</th>\n",
       "      <th>consume</th>\n",
       "      <th>App</th>\n",
       "      <th>Gender_F</th>\n",
       "      <th>Gender_M</th>\n",
       "      <th>Cellphone_Android</th>\n",
       "      <th>Cellphone_iPhone</th>\n",
       "      <th>Marital_Status_Divorced</th>\n",
       "      <th>Marital_Status_Married</th>\n",
       "      <th>Marital_Status_Single</th>\n",
       "      <th>Level_Blue</th>\n",
       "      <th>Level_Gold</th>\n",
       "      <th>Level_Platinum</th>\n",
       "      <th>Level_Silver</th>\n",
       "    </tr>\n",
       "  </thead>\n",
       "  <tbody>\n",
       "    <tr>\n",
       "      <th>0</th>\n",
       "      <td>2</td>\n",
       "      <td>2</td>\n",
       "      <td>33</td>\n",
       "      <td>2</td>\n",
       "      <td>0</td>\n",
       "      <td>1</td>\n",
       "      <td>0</td>\n",
       "      <td>1</td>\n",
       "      <td>0</td>\n",
       "      <td>1</td>\n",
       "      <td>0</td>\n",
       "      <td>1</td>\n",
       "      <td>0</td>\n",
       "      <td>0</td>\n",
       "      <td>0</td>\n",
       "    </tr>\n",
       "    <tr>\n",
       "      <th>1</th>\n",
       "      <td>1</td>\n",
       "      <td>1</td>\n",
       "      <td>33</td>\n",
       "      <td>1</td>\n",
       "      <td>0</td>\n",
       "      <td>1</td>\n",
       "      <td>1</td>\n",
       "      <td>0</td>\n",
       "      <td>0</td>\n",
       "      <td>0</td>\n",
       "      <td>1</td>\n",
       "      <td>1</td>\n",
       "      <td>0</td>\n",
       "      <td>0</td>\n",
       "      <td>0</td>\n",
       "    </tr>\n",
       "    <tr>\n",
       "      <th>2</th>\n",
       "      <td>2</td>\n",
       "      <td>3</td>\n",
       "      <td>32</td>\n",
       "      <td>1</td>\n",
       "      <td>1</td>\n",
       "      <td>0</td>\n",
       "      <td>0</td>\n",
       "      <td>1</td>\n",
       "      <td>0</td>\n",
       "      <td>0</td>\n",
       "      <td>1</td>\n",
       "      <td>1</td>\n",
       "      <td>0</td>\n",
       "      <td>0</td>\n",
       "      <td>0</td>\n",
       "    </tr>\n",
       "    <tr>\n",
       "      <th>3</th>\n",
       "      <td>2</td>\n",
       "      <td>1</td>\n",
       "      <td>31</td>\n",
       "      <td>3</td>\n",
       "      <td>1</td>\n",
       "      <td>0</td>\n",
       "      <td>1</td>\n",
       "      <td>0</td>\n",
       "      <td>0</td>\n",
       "      <td>0</td>\n",
       "      <td>1</td>\n",
       "      <td>1</td>\n",
       "      <td>0</td>\n",
       "      <td>0</td>\n",
       "      <td>0</td>\n",
       "    </tr>\n",
       "    <tr>\n",
       "      <th>4</th>\n",
       "      <td>2</td>\n",
       "      <td>2</td>\n",
       "      <td>32</td>\n",
       "      <td>3</td>\n",
       "      <td>0</td>\n",
       "      <td>1</td>\n",
       "      <td>0</td>\n",
       "      <td>1</td>\n",
       "      <td>0</td>\n",
       "      <td>0</td>\n",
       "      <td>1</td>\n",
       "      <td>1</td>\n",
       "      <td>0</td>\n",
       "      <td>0</td>\n",
       "      <td>0</td>\n",
       "    </tr>\n",
       "    <tr>\n",
       "      <th>...</th>\n",
       "      <td>...</td>\n",
       "      <td>...</td>\n",
       "      <td>...</td>\n",
       "      <td>...</td>\n",
       "      <td>...</td>\n",
       "      <td>...</td>\n",
       "      <td>...</td>\n",
       "      <td>...</td>\n",
       "      <td>...</td>\n",
       "      <td>...</td>\n",
       "      <td>...</td>\n",
       "      <td>...</td>\n",
       "      <td>...</td>\n",
       "      <td>...</td>\n",
       "      <td>...</td>\n",
       "    </tr>\n",
       "    <tr>\n",
       "      <th>8931</th>\n",
       "      <td>3</td>\n",
       "      <td>2</td>\n",
       "      <td>32</td>\n",
       "      <td>2</td>\n",
       "      <td>0</td>\n",
       "      <td>1</td>\n",
       "      <td>1</td>\n",
       "      <td>0</td>\n",
       "      <td>0</td>\n",
       "      <td>1</td>\n",
       "      <td>0</td>\n",
       "      <td>1</td>\n",
       "      <td>0</td>\n",
       "      <td>0</td>\n",
       "      <td>0</td>\n",
       "    </tr>\n",
       "    <tr>\n",
       "      <th>8932</th>\n",
       "      <td>2</td>\n",
       "      <td>3</td>\n",
       "      <td>33</td>\n",
       "      <td>3</td>\n",
       "      <td>0</td>\n",
       "      <td>1</td>\n",
       "      <td>0</td>\n",
       "      <td>1</td>\n",
       "      <td>0</td>\n",
       "      <td>0</td>\n",
       "      <td>1</td>\n",
       "      <td>1</td>\n",
       "      <td>0</td>\n",
       "      <td>0</td>\n",
       "      <td>0</td>\n",
       "    </tr>\n",
       "    <tr>\n",
       "      <th>8933</th>\n",
       "      <td>6</td>\n",
       "      <td>2</td>\n",
       "      <td>31</td>\n",
       "      <td>3</td>\n",
       "      <td>1</td>\n",
       "      <td>0</td>\n",
       "      <td>1</td>\n",
       "      <td>0</td>\n",
       "      <td>0</td>\n",
       "      <td>0</td>\n",
       "      <td>0</td>\n",
       "      <td>1</td>\n",
       "      <td>0</td>\n",
       "      <td>0</td>\n",
       "      <td>0</td>\n",
       "    </tr>\n",
       "    <tr>\n",
       "      <th>8934</th>\n",
       "      <td>2</td>\n",
       "      <td>2</td>\n",
       "      <td>31</td>\n",
       "      <td>5</td>\n",
       "      <td>1</td>\n",
       "      <td>0</td>\n",
       "      <td>0</td>\n",
       "      <td>1</td>\n",
       "      <td>0</td>\n",
       "      <td>1</td>\n",
       "      <td>0</td>\n",
       "      <td>1</td>\n",
       "      <td>0</td>\n",
       "      <td>0</td>\n",
       "      <td>0</td>\n",
       "    </tr>\n",
       "    <tr>\n",
       "      <th>8935</th>\n",
       "      <td>2</td>\n",
       "      <td>1</td>\n",
       "      <td>32</td>\n",
       "      <td>5</td>\n",
       "      <td>0</td>\n",
       "      <td>1</td>\n",
       "      <td>0</td>\n",
       "      <td>1</td>\n",
       "      <td>0</td>\n",
       "      <td>0</td>\n",
       "      <td>1</td>\n",
       "      <td>0</td>\n",
       "      <td>0</td>\n",
       "      <td>0</td>\n",
       "      <td>0</td>\n",
       "    </tr>\n",
       "  </tbody>\n",
       "</table>\n",
       "<p>8936 rows × 15 columns</p>\n",
       "</div>"
      ],
      "text/plain": [
       "      age  Education_Level  consume  App  Gender_F  Gender_M  \\\n",
       "0       2                2       33    2         0         1   \n",
       "1       1                1       33    1         0         1   \n",
       "2       2                3       32    1         1         0   \n",
       "3       2                1       31    3         1         0   \n",
       "4       2                2       32    3         0         1   \n",
       "...   ...              ...      ...  ...       ...       ...   \n",
       "8931    3                2       32    2         0         1   \n",
       "8932    2                3       33    3         0         1   \n",
       "8933    6                2       31    3         1         0   \n",
       "8934    2                2       31    5         1         0   \n",
       "8935    2                1       32    5         0         1   \n",
       "\n",
       "      Cellphone_Android  Cellphone_iPhone  Marital_Status_Divorced  \\\n",
       "0                     0                 1                        0   \n",
       "1                     1                 0                        0   \n",
       "2                     0                 1                        0   \n",
       "3                     1                 0                        0   \n",
       "4                     0                 1                        0   \n",
       "...                 ...               ...                      ...   \n",
       "8931                  1                 0                        0   \n",
       "8932                  0                 1                        0   \n",
       "8933                  1                 0                        0   \n",
       "8934                  0                 1                        0   \n",
       "8935                  0                 1                        0   \n",
       "\n",
       "      Marital_Status_Married  Marital_Status_Single  Level_Blue  Level_Gold  \\\n",
       "0                          1                      0           1           0   \n",
       "1                          0                      1           1           0   \n",
       "2                          0                      1           1           0   \n",
       "3                          0                      1           1           0   \n",
       "4                          0                      1           1           0   \n",
       "...                      ...                    ...         ...         ...   \n",
       "8931                       1                      0           1           0   \n",
       "8932                       0                      1           1           0   \n",
       "8933                       0                      0           1           0   \n",
       "8934                       1                      0           1           0   \n",
       "8935                       0                      1           0           0   \n",
       "\n",
       "      Level_Platinum  Level_Silver  \n",
       "0                  0             0  \n",
       "1                  0             0  \n",
       "2                  0             0  \n",
       "3                  0             0  \n",
       "4                  0             0  \n",
       "...              ...           ...  \n",
       "8931               0             0  \n",
       "8932               0             0  \n",
       "8933               0             0  \n",
       "8934               0             0  \n",
       "8935               0             0  \n",
       "\n",
       "[8936 rows x 15 columns]"
      ]
     },
     "execution_count": 19,
     "metadata": {},
     "output_type": "execute_result"
    }
   ],
   "source": [
    "train_features"
   ]
  },
  {
   "cell_type": "code",
   "execution_count": 20,
   "id": "5f639319",
   "metadata": {},
   "outputs": [
    {
     "ename": "NameError",
     "evalue": "name 'important_feature_names' is not defined",
     "output_type": "error",
     "traceback": [
      "\u001b[1;31m---------------------------------------------------------------------------\u001b[0m",
      "\u001b[1;31mNameError\u001b[0m                                 Traceback (most recent call last)",
      "\u001b[1;32m<ipython-input-20-d93c5a502183>\u001b[0m in \u001b[0;36m<module>\u001b[1;34m\u001b[0m\n\u001b[1;32m----> 1\u001b[1;33m \u001b[0mtrain_features\u001b[0m\u001b[1;33m[\u001b[0m\u001b[0mimportant_feature_names\u001b[0m\u001b[1;33m]\u001b[0m\u001b[1;33m\u001b[0m\u001b[1;33m\u001b[0m\u001b[0m\n\u001b[0m",
      "\u001b[1;31mNameError\u001b[0m: name 'important_feature_names' is not defined"
     ]
    }
   ],
   "source": [
    "train_features[important_feature_names]"
   ]
  },
  {
   "cell_type": "code",
   "execution_count": 21,
   "id": "43d5d658",
   "metadata": {},
   "outputs": [
    {
     "ename": "NameError",
     "evalue": "name 'important_feature_names' is not defined",
     "output_type": "error",
     "traceback": [
      "\u001b[1;31m---------------------------------------------------------------------------\u001b[0m",
      "\u001b[1;31mNameError\u001b[0m                                 Traceback (most recent call last)",
      "\u001b[1;32m<ipython-input-21-530a6661468a>\u001b[0m in \u001b[0;36m<module>\u001b[1;34m\u001b[0m\n\u001b[0;32m      1\u001b[0m \u001b[1;31m# 重新创建训练集\u001b[0m\u001b[1;33m\u001b[0m\u001b[1;33m\u001b[0m\u001b[1;33m\u001b[0m\u001b[0m\n\u001b[1;32m----> 2\u001b[1;33m \u001b[0mimportant_train_features\u001b[0m \u001b[1;33m=\u001b[0m \u001b[0mtrain_features\u001b[0m\u001b[1;33m[\u001b[0m\u001b[0mimportant_feature_names\u001b[0m\u001b[1;33m]\u001b[0m\u001b[1;33m\u001b[0m\u001b[1;33m\u001b[0m\u001b[0m\n\u001b[0m\u001b[0;32m      3\u001b[0m \u001b[0mimportant_test_features\u001b[0m \u001b[1;33m=\u001b[0m \u001b[0mtest_features\u001b[0m\u001b[1;33m[\u001b[0m\u001b[0mimportant_feature_names\u001b[0m\u001b[1;33m]\u001b[0m\u001b[1;33m\u001b[0m\u001b[1;33m\u001b[0m\u001b[0m\n\u001b[0;32m      4\u001b[0m \u001b[1;33m\u001b[0m\u001b[0m\n\u001b[0;32m      5\u001b[0m \u001b[1;31m# 数据维度\u001b[0m\u001b[1;33m\u001b[0m\u001b[1;33m\u001b[0m\u001b[1;33m\u001b[0m\u001b[0m\n",
      "\u001b[1;31mNameError\u001b[0m: name 'important_feature_names' is not defined"
     ]
    }
   ],
   "source": [
    "\n",
    "\n",
    "# 重新创建训练集\n",
    "important_train_features = train_features[important_feature_names]\n",
    "important_test_features = test_features[important_feature_names]\n",
    "\n",
    "# 数据维度\n",
    "print('Important train features shape:', important_train_features.shape)\n",
    "print('Important test features shape:', important_test_features.shape)"
   ]
  },
  {
   "cell_type": "code",
   "execution_count": 22,
   "id": "fefdc2d1",
   "metadata": {},
   "outputs": [
    {
     "ename": "NameError",
     "evalue": "name 'important_train_features' is not defined",
     "output_type": "error",
     "traceback": [
      "\u001b[1;31m---------------------------------------------------------------------------\u001b[0m",
      "\u001b[1;31mNameError\u001b[0m                                 Traceback (most recent call last)",
      "\u001b[1;32m<ipython-input-22-cf7a51caa223>\u001b[0m in \u001b[0;36m<module>\u001b[1;34m\u001b[0m\n\u001b[1;32m----> 1\u001b[1;33m \u001b[0mclassifier\u001b[0m\u001b[1;33m.\u001b[0m\u001b[0mfit\u001b[0m\u001b[1;33m(\u001b[0m\u001b[0mimportant_train_features\u001b[0m\u001b[1;33m,\u001b[0m \u001b[0mtrain_labels\u001b[0m\u001b[1;33m)\u001b[0m\u001b[1;33m\u001b[0m\u001b[1;33m\u001b[0m\u001b[0m\n\u001b[0m",
      "\u001b[1;31mNameError\u001b[0m: name 'important_train_features' is not defined"
     ]
    }
   ],
   "source": [
    "classifier.fit(important_train_features, train_labels)"
   ]
  },
  {
   "cell_type": "code",
   "execution_count": 23,
   "id": "93d20d78",
   "metadata": {},
   "outputs": [
    {
     "ename": "NameError",
     "evalue": "name 'important_test_features' is not defined",
     "output_type": "error",
     "traceback": [
      "\u001b[1;31m---------------------------------------------------------------------------\u001b[0m",
      "\u001b[1;31mNameError\u001b[0m                                 Traceback (most recent call last)",
      "\u001b[1;32m<ipython-input-23-478e2282af8e>\u001b[0m in \u001b[0;36m<module>\u001b[1;34m\u001b[0m\n\u001b[1;32m----> 1\u001b[1;33m \u001b[0my_pred\u001b[0m \u001b[1;33m=\u001b[0m \u001b[0mclassifier\u001b[0m\u001b[1;33m.\u001b[0m\u001b[0mpredict\u001b[0m\u001b[1;33m(\u001b[0m\u001b[0mimportant_test_features\u001b[0m\u001b[1;33m)\u001b[0m\u001b[1;33m\u001b[0m\u001b[1;33m\u001b[0m\u001b[0m\n\u001b[0m",
      "\u001b[1;31mNameError\u001b[0m: name 'important_test_features' is not defined"
     ]
    }
   ],
   "source": [
    "y_pred = classifier.predict(important_test_features)"
   ]
  },
  {
   "cell_type": "code",
   "execution_count": 24,
   "id": "66eaa27c",
   "metadata": {},
   "outputs": [],
   "source": [
    "# Making the Confusion Matrix\n",
    "from sklearn.metrics import confusion_matrix\n",
    "cm = confusion_matrix(test_labels, y_pred)"
   ]
  },
  {
   "cell_type": "code",
   "execution_count": 25,
   "id": "fa18e673",
   "metadata": {},
   "outputs": [
    {
     "data": {
      "text/plain": [
       "array([[1050,  450],\n",
       "       [ 171,  100]], dtype=int64)"
      ]
     },
     "execution_count": 25,
     "metadata": {},
     "output_type": "execute_result"
    }
   ],
   "source": [
    "cm"
   ]
  },
  {
   "cell_type": "code",
   "execution_count": 26,
   "id": "982e130a",
   "metadata": {},
   "outputs": [
    {
     "name": "stdout",
     "output_type": "stream",
     "text": [
      "使用所有特征时建模与测试的平均时间消耗: 5.19 秒.\n"
     ]
    }
   ],
   "source": [
    "# 要计算时间了\n",
    "import time\n",
    "# 这次是用所有特征\n",
    "all_features_time = []\n",
    "# 算一次可能不太准，来10次取个平均\n",
    "for _ in range(10):\n",
    "    start_time = time.time()\n",
    "    classifier = RandomForestClassifier(n_estimators = 1000, criterion = 'entropy', random_state =42)\n",
    "    classifier.fit(train_features, train_labels)\n",
    "    y_pred = classifier.predict(test_features)\n",
    "    end_time = time.time()\n",
    "    all_features_time.append(end_time - start_time)\n",
    "\n",
    "all_features_time = np.mean(all_features_time)\n",
    "print('使用所有特征时建模与测试的平均时间消耗:', round(all_features_time, 2), '秒.')"
   ]
  },
  {
   "cell_type": "code",
   "execution_count": 27,
   "id": "856c5328",
   "metadata": {},
   "outputs": [
    {
     "ename": "NameError",
     "evalue": "name 'important_train_features' is not defined",
     "output_type": "error",
     "traceback": [
      "\u001b[1;31m---------------------------------------------------------------------------\u001b[0m",
      "\u001b[1;31mNameError\u001b[0m                                 Traceback (most recent call last)",
      "\u001b[1;32m<ipython-input-27-e2905acbf2d7>\u001b[0m in \u001b[0;36m<module>\u001b[1;34m\u001b[0m\n\u001b[0;32m      7\u001b[0m     \u001b[0mstart_time\u001b[0m \u001b[1;33m=\u001b[0m \u001b[0mtime\u001b[0m\u001b[1;33m.\u001b[0m\u001b[0mtime\u001b[0m\u001b[1;33m(\u001b[0m\u001b[1;33m)\u001b[0m\u001b[1;33m\u001b[0m\u001b[1;33m\u001b[0m\u001b[0m\n\u001b[0;32m      8\u001b[0m     \u001b[0mclassifier\u001b[0m \u001b[1;33m=\u001b[0m \u001b[0mRandomForestClassifier\u001b[0m\u001b[1;33m(\u001b[0m\u001b[0mn_estimators\u001b[0m \u001b[1;33m=\u001b[0m \u001b[1;36m1000\u001b[0m\u001b[1;33m,\u001b[0m \u001b[0mcriterion\u001b[0m \u001b[1;33m=\u001b[0m \u001b[1;34m'entropy'\u001b[0m\u001b[1;33m,\u001b[0m \u001b[0mrandom_state\u001b[0m \u001b[1;33m=\u001b[0m\u001b[1;36m42\u001b[0m\u001b[1;33m)\u001b[0m\u001b[1;33m\u001b[0m\u001b[1;33m\u001b[0m\u001b[0m\n\u001b[1;32m----> 9\u001b[1;33m     \u001b[0mclassifier\u001b[0m\u001b[1;33m.\u001b[0m\u001b[0mfit\u001b[0m\u001b[1;33m(\u001b[0m\u001b[0mimportant_train_features\u001b[0m\u001b[1;33m,\u001b[0m \u001b[0mtrain_labels\u001b[0m\u001b[1;33m)\u001b[0m\u001b[1;33m\u001b[0m\u001b[1;33m\u001b[0m\u001b[0m\n\u001b[0m\u001b[0;32m     10\u001b[0m     \u001b[0my_pred\u001b[0m \u001b[1;33m=\u001b[0m \u001b[0mclassifier\u001b[0m\u001b[1;33m.\u001b[0m\u001b[0mpredict\u001b[0m\u001b[1;33m(\u001b[0m\u001b[0mimportant_test_features\u001b[0m\u001b[1;33m)\u001b[0m\u001b[1;33m\u001b[0m\u001b[1;33m\u001b[0m\u001b[0m\n\u001b[0;32m     11\u001b[0m     \u001b[0mend_time\u001b[0m \u001b[1;33m=\u001b[0m \u001b[0mtime\u001b[0m\u001b[1;33m.\u001b[0m\u001b[0mtime\u001b[0m\u001b[1;33m(\u001b[0m\u001b[1;33m)\u001b[0m\u001b[1;33m\u001b[0m\u001b[1;33m\u001b[0m\u001b[0m\n",
      "\u001b[1;31mNameError\u001b[0m: name 'important_train_features' is not defined"
     ]
    }
   ],
   "source": [
    "# 要计算时间了\n",
    "import time\n",
    "# 这次是用所有特征\n",
    "all_features_time = []\n",
    "# 算一次可能不太准，来10次取个平均\n",
    "for _ in range(10):\n",
    "    start_time = time.time()\n",
    "    classifier = RandomForestClassifier(n_estimators = 1000, criterion = 'entropy', random_state =42)\n",
    "    classifier.fit(important_train_features, train_labels)\n",
    "    y_pred = classifier.predict(important_test_features)\n",
    "    end_time = time.time()\n",
    "    all_features_time.append(end_time - start_time)\n",
    "\n",
    "all_features_time = np.mean(all_features_time)\n",
    "print('使用所有特征时建模与测试的平均时间消耗:', round(all_features_time, 2), '秒.')"
   ]
  },
  {
   "cell_type": "code",
   "execution_count": null,
   "id": "9549d1f4",
   "metadata": {},
   "outputs": [],
   "source": []
  }
 ],
 "metadata": {
  "kernelspec": {
   "display_name": "Python 3",
   "language": "python",
   "name": "python3"
  },
  "language_info": {
   "codemirror_mode": {
    "name": "ipython",
    "version": 3
   },
   "file_extension": ".py",
   "mimetype": "text/x-python",
   "name": "python",
   "nbconvert_exporter": "python",
   "pygments_lexer": "ipython3",
   "version": "3.9.1"
  }
 },
 "nbformat": 4,
 "nbformat_minor": 5
}
