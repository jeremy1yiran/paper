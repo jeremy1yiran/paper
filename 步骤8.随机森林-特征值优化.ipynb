{
 "cells": [
  {
   "cell_type": "code",
   "execution_count": 1,
   "id": "09b9c8fc",
   "metadata": {},
   "outputs": [],
   "source": [
    "import pandas as pd\n",
    "import numpy as np\n",
    "\n",
    "data = pd.read_csv('data/telcom_users_steam_undersample.csv')\n"
   ]
  },
  {
   "cell_type": "code",
   "execution_count": 2,
   "id": "4f180ef2",
   "metadata": {},
   "outputs": [
    {
     "data": {
      "text/plain": [
       "(2226, 9)"
      ]
     },
     "execution_count": 2,
     "metadata": {},
     "output_type": "execute_result"
    }
   ],
   "source": [
    "data.shape"
   ]
  },
  {
   "cell_type": "code",
   "execution_count": 3,
   "id": "d8bc3138",
   "metadata": {},
   "outputs": [
    {
     "data": {
      "text/html": [
       "<div>\n",
       "<style scoped>\n",
       "    .dataframe tbody tr th:only-of-type {\n",
       "        vertical-align: middle;\n",
       "    }\n",
       "\n",
       "    .dataframe tbody tr th {\n",
       "        vertical-align: top;\n",
       "    }\n",
       "\n",
       "    .dataframe thead th {\n",
       "        text-align: right;\n",
       "    }\n",
       "</style>\n",
       "<table border=\"1\" class=\"dataframe\">\n",
       "  <thead>\n",
       "    <tr style=\"text-align: right;\">\n",
       "      <th></th>\n",
       "      <th>is_increase</th>\n",
       "      <th>age</th>\n",
       "      <th>Education_Level</th>\n",
       "      <th>App</th>\n",
       "      <th>Gender_F</th>\n",
       "      <th>Gender_M</th>\n",
       "      <th>Cellphone_Android</th>\n",
       "      <th>Cellphone_iPhone</th>\n",
       "      <th>Marital_Status_Divorced</th>\n",
       "      <th>Marital_Status_Married</th>\n",
       "      <th>Marital_Status_Single</th>\n",
       "      <th>consume_High</th>\n",
       "      <th>consume_Low</th>\n",
       "      <th>consume_Middle</th>\n",
       "      <th>Level_Blue</th>\n",
       "      <th>Level_Gold</th>\n",
       "      <th>Level_Platinum</th>\n",
       "      <th>Level_Silver</th>\n",
       "    </tr>\n",
       "  </thead>\n",
       "  <tbody>\n",
       "    <tr>\n",
       "      <th>0</th>\n",
       "      <td>1</td>\n",
       "      <td>6</td>\n",
       "      <td>2</td>\n",
       "      <td>2</td>\n",
       "      <td>1</td>\n",
       "      <td>0</td>\n",
       "      <td>1</td>\n",
       "      <td>0</td>\n",
       "      <td>0</td>\n",
       "      <td>1</td>\n",
       "      <td>0</td>\n",
       "      <td>0</td>\n",
       "      <td>1</td>\n",
       "      <td>0</td>\n",
       "      <td>1</td>\n",
       "      <td>0</td>\n",
       "      <td>0</td>\n",
       "      <td>0</td>\n",
       "    </tr>\n",
       "    <tr>\n",
       "      <th>1</th>\n",
       "      <td>1</td>\n",
       "      <td>1</td>\n",
       "      <td>2</td>\n",
       "      <td>2</td>\n",
       "      <td>1</td>\n",
       "      <td>0</td>\n",
       "      <td>1</td>\n",
       "      <td>0</td>\n",
       "      <td>0</td>\n",
       "      <td>1</td>\n",
       "      <td>0</td>\n",
       "      <td>0</td>\n",
       "      <td>1</td>\n",
       "      <td>0</td>\n",
       "      <td>1</td>\n",
       "      <td>0</td>\n",
       "      <td>0</td>\n",
       "      <td>0</td>\n",
       "    </tr>\n",
       "    <tr>\n",
       "      <th>2</th>\n",
       "      <td>1</td>\n",
       "      <td>1</td>\n",
       "      <td>2</td>\n",
       "      <td>1</td>\n",
       "      <td>0</td>\n",
       "      <td>1</td>\n",
       "      <td>1</td>\n",
       "      <td>0</td>\n",
       "      <td>0</td>\n",
       "      <td>1</td>\n",
       "      <td>0</td>\n",
       "      <td>1</td>\n",
       "      <td>0</td>\n",
       "      <td>0</td>\n",
       "      <td>1</td>\n",
       "      <td>0</td>\n",
       "      <td>0</td>\n",
       "      <td>0</td>\n",
       "    </tr>\n",
       "    <tr>\n",
       "      <th>3</th>\n",
       "      <td>1</td>\n",
       "      <td>2</td>\n",
       "      <td>2</td>\n",
       "      <td>2</td>\n",
       "      <td>0</td>\n",
       "      <td>1</td>\n",
       "      <td>1</td>\n",
       "      <td>0</td>\n",
       "      <td>0</td>\n",
       "      <td>1</td>\n",
       "      <td>0</td>\n",
       "      <td>0</td>\n",
       "      <td>0</td>\n",
       "      <td>1</td>\n",
       "      <td>0</td>\n",
       "      <td>0</td>\n",
       "      <td>0</td>\n",
       "      <td>1</td>\n",
       "    </tr>\n",
       "    <tr>\n",
       "      <th>4</th>\n",
       "      <td>1</td>\n",
       "      <td>1</td>\n",
       "      <td>2</td>\n",
       "      <td>3</td>\n",
       "      <td>0</td>\n",
       "      <td>1</td>\n",
       "      <td>1</td>\n",
       "      <td>0</td>\n",
       "      <td>0</td>\n",
       "      <td>1</td>\n",
       "      <td>0</td>\n",
       "      <td>1</td>\n",
       "      <td>0</td>\n",
       "      <td>0</td>\n",
       "      <td>1</td>\n",
       "      <td>0</td>\n",
       "      <td>0</td>\n",
       "      <td>0</td>\n",
       "    </tr>\n",
       "  </tbody>\n",
       "</table>\n",
       "</div>"
      ],
      "text/plain": [
       "   is_increase  age  Education_Level  App  Gender_F  Gender_M  \\\n",
       "0            1    6                2    2         1         0   \n",
       "1            1    1                2    2         1         0   \n",
       "2            1    1                2    1         0         1   \n",
       "3            1    2                2    2         0         1   \n",
       "4            1    1                2    3         0         1   \n",
       "\n",
       "   Cellphone_Android  Cellphone_iPhone  Marital_Status_Divorced  \\\n",
       "0                  1                 0                        0   \n",
       "1                  1                 0                        0   \n",
       "2                  1                 0                        0   \n",
       "3                  1                 0                        0   \n",
       "4                  1                 0                        0   \n",
       "\n",
       "   Marital_Status_Married  Marital_Status_Single  consume_High  consume_Low  \\\n",
       "0                       1                      0             0            1   \n",
       "1                       1                      0             0            1   \n",
       "2                       1                      0             1            0   \n",
       "3                       1                      0             0            0   \n",
       "4                       1                      0             1            0   \n",
       "\n",
       "   consume_Middle  Level_Blue  Level_Gold  Level_Platinum  Level_Silver  \n",
       "0               0           1           0               0             0  \n",
       "1               0           1           0               0             0  \n",
       "2               0           1           0               0             0  \n",
       "3               1           0           0               0             1  \n",
       "4               0           1           0               0             0  "
      ]
     },
     "execution_count": 3,
     "metadata": {},
     "output_type": "execute_result"
    }
   ],
   "source": [
    "# 独热编码\n",
    "data = pd.get_dummies(data)\n",
    "data.head(5)"
   ]
  },
  {
   "cell_type": "code",
   "execution_count": 4,
   "id": "d1ed568c",
   "metadata": {},
   "outputs": [],
   "source": [
    "#去除标签，并转换一下数据格式\n",
    "# 数据与标签\n",
    "import numpy as np\n",
    "# 标签\n",
    "labels = np.array(data['is_increase'])\n",
    "# 在特征中去掉标签\n",
    "features= data.drop('is_increase', axis = 1)\n",
    "# 名字单独保存一下，以备后患\n",
    "feature_list = list(features.columns)\n",
    "# 数据集切分\n",
    "from sklearn.model_selection import train_test_split\n",
    "\n",
    "train_features, test_features, train_labels, test_labels = train_test_split(features, labels, test_size = 0.25,\n",
    "                                                                           random_state = 42)"
   ]
  },
  {
   "cell_type": "code",
   "execution_count": null,
   "id": "99139d5d",
   "metadata": {},
   "outputs": [],
   "source": []
  },
  {
   "cell_type": "code",
   "execution_count": 5,
   "id": "ee0122ae",
   "metadata": {},
   "outputs": [],
   "source": [
    "#去除标签，并转换一下数据格式\n",
    "# 数据与标签\n",
    "import numpy as np\n",
    "# 标签\n",
    "labels = np.array(data['is_increase'])\n",
    "# 在特征中去掉标签\n",
    "features= data.drop('is_increase', axis = 1)\n",
    "# 数据集切分\n",
    "from sklearn.model_selection import train_test_split\n",
    "train_features, test_features, train_labels, test_labels = train_test_split(features, labels, test_size = 0.25,\n",
    "                                                                           random_state = 42)"
   ]
  },
  {
   "cell_type": "code",
   "execution_count": 6,
   "id": "f9e2efee",
   "metadata": {},
   "outputs": [
    {
     "data": {
      "text/plain": [
       "RandomForestClassifier(criterion='entropy', n_estimators=1000, random_state=42)"
      ]
     },
     "execution_count": 6,
     "metadata": {},
     "output_type": "execute_result"
    }
   ],
   "source": [
    "from sklearn.ensemble import RandomForestClassifier\n",
    "classifier = RandomForestClassifier(n_estimators = 1000, criterion = 'entropy', random_state =42)\n",
    "\n",
    "classifier.fit(train_features, train_labels)"
   ]
  },
  {
   "cell_type": "code",
   "execution_count": 7,
   "id": "21197e91",
   "metadata": {},
   "outputs": [
    {
     "name": "stdout",
     "output_type": "stream",
     "text": [
      "训练集特征: (1669, 17)\n",
      "训练集标签: (1669,)\n",
      "测试集特征: (557, 17)\n",
      "测试集标签: (557,)\n"
     ]
    }
   ],
   "source": [
    "print('训练集特征:', train_features.shape)\n",
    "print('训练集标签:', train_labels.shape)\n",
    "print('测试集特征:', test_features.shape)\n",
    "print('测试集标签:', test_labels.shape)"
   ]
  },
  {
   "cell_type": "code",
   "execution_count": null,
   "id": "141ccb70",
   "metadata": {},
   "outputs": [],
   "source": []
  },
  {
   "cell_type": "code",
   "execution_count": 8,
   "id": "c4518cc9",
   "metadata": {},
   "outputs": [],
   "source": [
    "# Predicting the Test set results\n",
    "y_pred = classifier.predict(test_features)\n"
   ]
  },
  {
   "cell_type": "code",
   "execution_count": 9,
   "id": "7eefd4e1",
   "metadata": {},
   "outputs": [],
   "source": [
    "# Making the Confusion Matrix\n",
    "from sklearn.metrics import confusion_matrix\n",
    "cm = confusion_matrix(test_labels, y_pred)"
   ]
  },
  {
   "cell_type": "code",
   "execution_count": 10,
   "id": "f43bc44c",
   "metadata": {},
   "outputs": [
    {
     "data": {
      "text/plain": [
       "array([[134, 133],\n",
       "       [143, 147]], dtype=int64)"
      ]
     },
     "execution_count": 10,
     "metadata": {},
     "output_type": "execute_result"
    }
   ],
   "source": [
    "cm"
   ]
  },
  {
   "cell_type": "markdown",
   "id": "129414cb",
   "metadata": {},
   "source": [
    "cm"
   ]
  },
  {
   "cell_type": "code",
   "execution_count": 11,
   "id": "c14e9f80",
   "metadata": {},
   "outputs": [],
   "source": [
    "# 导入所需工具包\n",
    "from sklearn.tree import export_graphviz\n",
    "import pydot #pip install pydot"
   ]
  },
  {
   "cell_type": "code",
   "execution_count": 14,
   "id": "46569554",
   "metadata": {},
   "outputs": [
    {
     "name": "stdout",
     "output_type": "stream",
     "text": [
      "Variable: App                  Importance: 0.33\n",
      "Variable: age                  Importance: 0.22\n",
      "Variable: Education_Level      Importance: 0.18\n",
      "Variable: Cellphone_Android    Importance: 0.03\n",
      "Variable: Cellphone_iPhone     Importance: 0.03\n",
      "Variable: Marital_Status_Married Importance: 0.03\n",
      "Variable: Marital_Status_Single Importance: 0.03\n",
      "Variable: Gender_F             Importance: 0.02\n",
      "Variable: Gender_M             Importance: 0.02\n",
      "Variable: Marital_Status_Divorced Importance: 0.02\n",
      "Variable: consume_High         Importance: 0.02\n",
      "Variable: consume_Low          Importance: 0.02\n",
      "Variable: consume_Middle       Importance: 0.02\n",
      "Variable: Level_Blue           Importance: 0.02\n",
      "Variable: Level_Silver         Importance: 0.02\n",
      "Variable: Level_Gold           Importance: 0.01\n",
      "Variable: Level_Platinum       Importance: 0.0\n"
     ]
    },
    {
     "data": {
      "text/plain": [
       "[None,\n",
       " None,\n",
       " None,\n",
       " None,\n",
       " None,\n",
       " None,\n",
       " None,\n",
       " None,\n",
       " None,\n",
       " None,\n",
       " None,\n",
       " None,\n",
       " None,\n",
       " None,\n",
       " None,\n",
       " None,\n",
       " None]"
      ]
     },
     "execution_count": 14,
     "metadata": {},
     "output_type": "execute_result"
    }
   ],
   "source": [
    "# 得到特征重要性\n",
    "importances = list(classifier.feature_importances_)\n",
    "\n",
    "# 转换格式\n",
    "feature_importances = [(feature, round(importance, 2)) for feature, importance in zip(feature_list, importances)]\n",
    "\n",
    "# 排序\n",
    "feature_importances = sorted(feature_importances, key = lambda x: x[1], reverse = True)\n",
    "\n",
    "# 对应进行打印\n",
    "[print('Variable: {:20} Importance: {}'.format(*pair)) for pair in feature_importances]"
   ]
  },
  {
   "cell_type": "code",
   "execution_count": 18,
   "id": "721cb55e",
   "metadata": {},
   "outputs": [
    {
     "name": "stdout",
     "output_type": "stream",
     "text": [
      "100%|██████████████████████████████████████████████| 100/100 [00:06<00:00, 14.47trial/s, best loss: -0.585278276481149]\n",
      "{'max_depth': 13, 'max_leaf_nodes': 40, 'n_estimators': 44}\n"
     ]
    }
   ],
   "source": []
  },
  {
   "cell_type": "code",
   "execution_count": 21,
   "id": "64c8ef28",
   "metadata": {},
   "outputs": [
    {
     "data": {
      "text/plain": [
       "RandomForestClassifier(criterion='entropy', max_depth=13, max_leaf_nodes=40,\n",
       "                       n_estimators=44, random_state=42)"
      ]
     },
     "execution_count": 21,
     "metadata": {},
     "output_type": "execute_result"
    }
   ],
   "source": [
    "from sklearn.ensemble import RandomForestClassifier\n",
    "classifier = RandomForestClassifier(n_estimators = 44, criterion = 'entropy',max_depth =13,max_leaf_nodes=40,random_state =42)\n",
    "classifier.fit(train_features, train_labels)"
   ]
  },
  {
   "cell_type": "code",
   "execution_count": 22,
   "id": "9b725b0d",
   "metadata": {},
   "outputs": [],
   "source": [
    "y_pred = classifier.predict(test_features)"
   ]
  },
  {
   "cell_type": "code",
   "execution_count": 23,
   "id": "39ba6416",
   "metadata": {},
   "outputs": [],
   "source": [
    "# Making the Confusion Matrix\n",
    "from sklearn.metrics import confusion_matrix\n",
    "cm = confusion_matrix(test_labels, y_pred)"
   ]
  },
  {
   "cell_type": "code",
   "execution_count": 24,
   "id": "6b09e794",
   "metadata": {},
   "outputs": [
    {
     "data": {
      "text/plain": [
       "array([[190,  77],\n",
       "       [167, 123]], dtype=int64)"
      ]
     },
     "execution_count": 24,
     "metadata": {},
     "output_type": "execute_result"
    }
   ],
   "source": [
    "cm"
   ]
  },
  {
   "cell_type": "code",
   "execution_count": null,
   "id": "07489e42",
   "metadata": {},
   "outputs": [],
   "source": []
  }
 ],
 "metadata": {
  "kernelspec": {
   "display_name": "Python 3",
   "language": "python",
   "name": "python3"
  },
  "language_info": {
   "codemirror_mode": {
    "name": "ipython",
    "version": 3
   },
   "file_extension": ".py",
   "mimetype": "text/x-python",
   "name": "python",
   "nbconvert_exporter": "python",
   "pygments_lexer": "ipython3",
   "version": "3.9.1"
  }
 },
 "nbformat": 4,
 "nbformat_minor": 5
}
