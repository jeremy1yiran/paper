{
 "cells": [
  {
   "cell_type": "code",
   "execution_count": 1,
   "id": "b41ca0df",
   "metadata": {},
   "outputs": [
    {
     "data": {
      "text/html": [
       "<div>\n",
       "<style scoped>\n",
       "    .dataframe tbody tr th:only-of-type {\n",
       "        vertical-align: middle;\n",
       "    }\n",
       "\n",
       "    .dataframe tbody tr th {\n",
       "        vertical-align: top;\n",
       "    }\n",
       "\n",
       "    .dataframe thead th {\n",
       "        text-align: right;\n",
       "    }\n",
       "</style>\n",
       "<table border=\"1\" class=\"dataframe\">\n",
       "  <thead>\n",
       "    <tr style=\"text-align: right;\">\n",
       "      <th></th>\n",
       "      <th>is_increase</th>\n",
       "      <th>age</th>\n",
       "      <th>Gender</th>\n",
       "      <th>Cellphone</th>\n",
       "      <th>Education_Level</th>\n",
       "      <th>Marital_Status</th>\n",
       "      <th>consume</th>\n",
       "      <th>Level</th>\n",
       "      <th>App</th>\n",
       "    </tr>\n",
       "  </thead>\n",
       "  <tbody>\n",
       "    <tr>\n",
       "      <th>0</th>\n",
       "      <td>0</td>\n",
       "      <td>2</td>\n",
       "      <td>M</td>\n",
       "      <td>iPhone</td>\n",
       "      <td>1</td>\n",
       "      <td>Married</td>\n",
       "      <td>32</td>\n",
       "      <td>Blue</td>\n",
       "      <td>5</td>\n",
       "    </tr>\n",
       "    <tr>\n",
       "      <th>1</th>\n",
       "      <td>0</td>\n",
       "      <td>2</td>\n",
       "      <td>F</td>\n",
       "      <td>iPhone</td>\n",
       "      <td>2</td>\n",
       "      <td>Single</td>\n",
       "      <td>31</td>\n",
       "      <td>Blue</td>\n",
       "      <td>6</td>\n",
       "    </tr>\n",
       "    <tr>\n",
       "      <th>2</th>\n",
       "      <td>0</td>\n",
       "      <td>1</td>\n",
       "      <td>M</td>\n",
       "      <td>iPhone</td>\n",
       "      <td>2</td>\n",
       "      <td>Married</td>\n",
       "      <td>33</td>\n",
       "      <td>Blue</td>\n",
       "      <td>4</td>\n",
       "    </tr>\n",
       "    <tr>\n",
       "      <th>3</th>\n",
       "      <td>0</td>\n",
       "      <td>3</td>\n",
       "      <td>M</td>\n",
       "      <td>iPhone</td>\n",
       "      <td>1</td>\n",
       "      <td>Married</td>\n",
       "      <td>32</td>\n",
       "      <td>Blue</td>\n",
       "      <td>5</td>\n",
       "    </tr>\n",
       "    <tr>\n",
       "      <th>4</th>\n",
       "      <td>0</td>\n",
       "      <td>2</td>\n",
       "      <td>M</td>\n",
       "      <td>Android</td>\n",
       "      <td>2</td>\n",
       "      <td>Married</td>\n",
       "      <td>32</td>\n",
       "      <td>Blue</td>\n",
       "      <td>3</td>\n",
       "    </tr>\n",
       "  </tbody>\n",
       "</table>\n",
       "</div>"
      ],
      "text/plain": [
       "   is_increase  age Gender Cellphone  Education_Level Marital_Status  consume  \\\n",
       "0            0    2      M    iPhone                1        Married       32   \n",
       "1            0    2      F    iPhone                2         Single       31   \n",
       "2            0    1      M    iPhone                2        Married       33   \n",
       "3            0    3      M    iPhone                1        Married       32   \n",
       "4            0    2      M   Android                2        Married       32   \n",
       "\n",
       "  Level  App  \n",
       "0  Blue    5  \n",
       "1  Blue    6  \n",
       "2  Blue    4  \n",
       "3  Blue    5  \n",
       "4  Blue    3  "
      ]
     },
     "execution_count": 1,
     "metadata": {},
     "output_type": "execute_result"
    }
   ],
   "source": [
    "import pandas as pd\n",
    "import numpy as np\n",
    "\n",
    "data = pd.read_csv('data/telcom_users_steam.csv')\n",
    "data.head()"
   ]
  },
  {
   "cell_type": "code",
   "execution_count": 13,
   "id": "fd77f930",
   "metadata": {},
   "outputs": [],
   "source": [
    "#针对尚未治理好的数据做一下补充\n",
    "data.loc[(data['Cellphone']==0), 'Cellphone'] = 'Android';\n",
    "data.loc[(data['Cellphone']==1), 'Cellphone'] = 'Android';\n",
    "data.loc[(data['Cellphone']==2), 'Cellphone'] = 'Android';"
   ]
  },
  {
   "cell_type": "code",
   "execution_count": 14,
   "id": "e7b81189",
   "metadata": {},
   "outputs": [],
   "source": [
    "data.loc[(data['Cellphone']==3), 'Cellphone'] = 'iPhone';\n",
    "data.loc[(data['Cellphone']==4), 'Cellphone'] = 'iPhone';\n",
    "data.loc[(data['Cellphone']==5), 'Cellphone'] = 'iPhone';"
   ]
  },
  {
   "cell_type": "code",
   "execution_count": 17,
   "id": "5e04b658",
   "metadata": {},
   "outputs": [],
   "source": [
    "data.to_csv('./data/telcom_users_steam.csv')"
   ]
  },
  {
   "cell_type": "code",
   "execution_count": null,
   "id": "e540b631",
   "metadata": {},
   "outputs": [],
   "source": []
  },
  {
   "cell_type": "code",
   "execution_count": null,
   "id": "9166f5a1",
   "metadata": {},
   "outputs": [],
   "source": []
  },
  {
   "cell_type": "code",
   "execution_count": null,
   "id": "3d14c5bd",
   "metadata": {},
   "outputs": [],
   "source": []
  },
  {
   "cell_type": "code",
   "execution_count": null,
   "id": "2c4f46f4",
   "metadata": {},
   "outputs": [],
   "source": []
  },
  {
   "cell_type": "code",
   "execution_count": null,
   "id": "9ddc5ded",
   "metadata": {},
   "outputs": [],
   "source": []
  },
  {
   "cell_type": "code",
   "execution_count": null,
   "id": "6cc2d430",
   "metadata": {},
   "outputs": [],
   "source": []
  },
  {
   "cell_type": "code",
   "execution_count": null,
   "id": "026bfd29",
   "metadata": {},
   "outputs": [],
   "source": []
  },
  {
   "cell_type": "code",
   "execution_count": null,
   "id": "5c0d8c3c",
   "metadata": {},
   "outputs": [],
   "source": []
  }
 ],
 "metadata": {
  "kernelspec": {
   "display_name": "Python 3",
   "language": "python",
   "name": "python3"
  },
  "language_info": {
   "codemirror_mode": {
    "name": "ipython",
    "version": 3
   },
   "file_extension": ".py",
   "mimetype": "text/x-python",
   "name": "python",
   "nbconvert_exporter": "python",
   "pygments_lexer": "ipython3",
   "version": "3.9.1"
  }
 },
 "nbformat": 4,
 "nbformat_minor": 5
}
